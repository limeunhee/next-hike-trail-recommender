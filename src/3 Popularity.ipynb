{
 "cells": [
  {
   "cell_type": "markdown",
   "metadata": {},
   "source": [
    "# Popularity based recommender"
   ]
  },
  {
   "cell_type": "code",
   "execution_count": 2,
   "metadata": {},
   "outputs": [],
   "source": [
    "import pandas as pd\n",
    "import numpy as np\n",
    "import matplotlib.pyplot as plt"
   ]
  },
  {
   "cell_type": "code",
   "execution_count": 3,
   "metadata": {},
   "outputs": [],
   "source": [
    "def weighted_star_rating(x):\n",
    "    v = x['review_count']\n",
    "    R = x['stars']\n",
    "    return (v/(v+m) * R) + (m/(m+v) * C)"
   ]
  },
  {
   "cell_type": "markdown",
   "metadata": {},
   "source": [
    "### This recommender takes only the trail popularity as input in order to make trail recommendations. The model does not provide personalized recommendation since it does not take into account individual hiker's information"
   ]
  },
  {
   "cell_type": "code",
   "execution_count": 4,
   "metadata": {},
   "outputs": [],
   "source": [
    "df = pd.read_csv('csv/combined/CA_trails.csv')"
   ]
  },
  {
   "cell_type": "code",
   "execution_count": 5,
   "metadata": {},
   "outputs": [
    {
     "data": {
      "text/plain": [
       "count    1000.000000\n",
       "mean        4.517500\n",
       "std         0.187026\n",
       "min         3.500000\n",
       "25%         4.500000\n",
       "50%         4.500000\n",
       "75%         4.500000\n",
       "max         5.000000\n",
       "Name: stars, dtype: float64"
      ]
     },
     "execution_count": 5,
     "metadata": {},
     "output_type": "execute_result"
    }
   ],
   "source": [
    "df.stars.describe()"
   ]
  },
  {
   "cell_type": "code",
   "execution_count": 15,
   "metadata": {},
   "outputs": [
    {
     "data": {
      "text/plain": [
       "<matplotlib.axes._subplots.AxesSubplot at 0x7fea3ac3ba60>"
      ]
     },
     "execution_count": 15,
     "metadata": {},
     "output_type": "execute_result"
    },
    {
     "data": {
      "image/png": "[encoded data removed]",
      "text/plain": [
       "<Figure size 432x288 with 1 Axes>"
      ]
     },
     "metadata": {
      "needs_background": "light"
     },
     "output_type": "display_data"
    }
   ],
   "source": [
    "df['stars'].hist(bins=10)"
   ]
  },
  {
   "cell_type": "code",
   "execution_count": 7,
   "metadata": {},
   "outputs": [
    {
     "data": {
      "text/plain": [
       "<matplotlib.axes._subplots.AxesSubplot at 0x7fea3a7538e0>"
      ]
     },
     "execution_count": 7,
     "metadata": {},
     "output_type": "execute_result"
    },
    {
     "data": {
      "image/png": "[encoded data removed]",
      "text/plain": [
       "<Figure size 432x288 with 1 Axes>"
      ]
     },
     "metadata": {
      "needs_background": "light"
     },
     "output_type": "display_data"
    }
   ],
   "source": [
    "df['review_count'].hist(bins=100)"
   ]
  },
  {
   "cell_type": "code",
   "execution_count": 8,
   "metadata": {},
   "outputs": [
    {
     "data": {
      "text/plain": [
       "count    1000.000000\n",
       "mean      541.335000\n",
       "std       493.952674\n",
       "min        29.000000\n",
       "25%       267.750000\n",
       "50%       392.000000\n",
       "75%       623.250000\n",
       "max      5525.000000\n",
       "Name: review_count, dtype: float64"
      ]
     },
     "execution_count": 8,
     "metadata": {},
     "output_type": "execute_result"
    }
   ],
   "source": [
    "df['review_count'].describe()"
   ]
  },
  {
   "cell_type": "markdown",
   "metadata": {},
   "source": [
    "## Calculating popularity"
   ]
  },
  {
   "cell_type": "markdown",
   "metadata": {},
   "source": [
    "We need to define minimum number of reviews needed to be listed in the chart. We will use 95% as the threshhold value "
   ]
  },
  {
   "cell_type": "code",
   "execution_count": 9,
   "metadata": {},
   "outputs": [
    {
     "name": "stdout",
     "output_type": "stream",
     "text": [
      "minimum number of review count:     1456.05\n",
      "average star rating:                 4.5175\n"
     ]
    },
    {
     "name": "stderr",
     "output_type": "stream",
     "text": [
      "<ipython-input-9-30dbabdcf390>:6: SettingWithCopyWarning: \n",
      "A value is trying to be set on a copy of a slice from a DataFrame.\n",
      "Try using .loc[row_indexer,col_indexer] = value instead\n",
      "\n",
      "See the caveats in the documentation: https://pandas.pydata.org/pandas-docs/stable/user_guide/indexing.html#returning-a-view-versus-a-copy\n",
      "  df_Q['WSR'] = df_Q.apply(weighted_star_rating, axis=1)\n"
     ]
    },
    {
     "data": {
      "text/html": [
       "<div>\n",
       "<style scoped>\n",
       "    .dataframe tbody tr th:only-of-type {\n",
       "        vertical-align: middle;\n",
       "    }\n",
       "\n",
       "    .dataframe tbody tr th {\n",
       "        vertical-align: top;\n",
       "    }\n",
       "\n",
       "    .dataframe thead th {\n",
       "        text-align: right;\n",
       "    }\n",
       "</style>\n",
       "<table border=\"1\" class=\"dataframe\">\n",
       "  <thead>\n",
       "    <tr style=\"text-align: right;\">\n",
       "      <th></th>\n",
       "      <th>name</th>\n",
       "      <th>stars</th>\n",
       "      <th>review_count</th>\n",
       "      <th>location</th>\n",
       "      <th>elevation</th>\n",
       "      <th>route_type</th>\n",
       "      <th>short_description</th>\n",
       "      <th>long_description</th>\n",
       "      <th>tag_list</th>\n",
       "      <th>n_photos</th>\n",
       "      <th>...</th>\n",
       "      <th>n_completed</th>\n",
       "      <th>state</th>\n",
       "      <th>State</th>\n",
       "      <th>difficulty</th>\n",
       "      <th>short</th>\n",
       "      <th>long</th>\n",
       "      <th>n_tags</th>\n",
       "      <th>distance</th>\n",
       "      <th>duration</th>\n",
       "      <th>WSR</th>\n",
       "    </tr>\n",
       "  </thead>\n",
       "  <tbody>\n",
       "    <tr>\n",
       "      <th>0</th>\n",
       "      <td>Vernal and Nevada Falls via the Mist Trail</td>\n",
       "      <td>5.0</td>\n",
       "      <td>2870</td>\n",
       "      <td>Yosemite National Park</td>\n",
       "      <td>2191.0</td>\n",
       "      <td>Loop</td>\n",
       "      <td>Vernal and Nevada Falls via the Mist Trail is ...</td>\n",
       "      <td>Yosemite National Park charges a fee to enter....</td>\n",
       "      <td>['Hiking', 'Forest', 'Partially paved', 'River...</td>\n",
       "      <td>7461</td>\n",
       "      <td>...</td>\n",
       "      <td>13298</td>\n",
       "      <td>california</td>\n",
       "      <td>CA</td>\n",
       "      <td>3</td>\n",
       "      <td>260</td>\n",
       "      <td>1</td>\n",
       "      <td>13</td>\n",
       "      <td>8.8</td>\n",
       "      <td>301.0</td>\n",
       "      <td>4.837601</td>\n",
       "    </tr>\n",
       "    <tr>\n",
       "      <th>9</th>\n",
       "      <td>Vernal Falls</td>\n",
       "      <td>5.0</td>\n",
       "      <td>2323</td>\n",
       "      <td>Yosemite National Park</td>\n",
       "      <td>1279.0</td>\n",
       "      <td>Out &amp; Back</td>\n",
       "      <td>Vernal Falls is a 4 mile heavily trafficked ou...</td>\n",
       "      <td>Yosemite National Park charges a fee to enter....</td>\n",
       "      <td>['Kid friendly', 'Hiking', 'Nature trips', 'Wa...</td>\n",
       "      <td>4717</td>\n",
       "      <td>...</td>\n",
       "      <td>8000</td>\n",
       "      <td>california</td>\n",
       "      <td>CA</td>\n",
       "      <td>2</td>\n",
       "      <td>263</td>\n",
       "      <td>1</td>\n",
       "      <td>12</td>\n",
       "      <td>4.0</td>\n",
       "      <td>136.0</td>\n",
       "      <td>4.814095</td>\n",
       "    </tr>\n",
       "    <tr>\n",
       "      <th>7</th>\n",
       "      <td>Mount Tallac Trail</td>\n",
       "      <td>5.0</td>\n",
       "      <td>2248</td>\n",
       "      <td>Desolation Wilderness</td>\n",
       "      <td>3330.0</td>\n",
       "      <td>Out &amp; Back</td>\n",
       "      <td>Mount Tallac Trail is a 10.9 mile heavily traf...</td>\n",
       "      <td>There is parking alongside the street. A wilde...</td>\n",
       "      <td>['Dogs on leash', 'Hiking', 'Nature trips', 'R...</td>\n",
       "      <td>2941</td>\n",
       "      <td>...</td>\n",
       "      <td>4604</td>\n",
       "      <td>california</td>\n",
       "      <td>CA</td>\n",
       "      <td>3</td>\n",
       "      <td>312</td>\n",
       "      <td>1</td>\n",
       "      <td>13</td>\n",
       "      <td>10.9</td>\n",
       "      <td>383.0</td>\n",
       "      <td>4.810331</td>\n",
       "    </tr>\n",
       "    <tr>\n",
       "      <th>5</th>\n",
       "      <td>Upper Yosemite Falls Trail</td>\n",
       "      <td>5.0</td>\n",
       "      <td>2222</td>\n",
       "      <td>Yosemite National Park</td>\n",
       "      <td>3231.0</td>\n",
       "      <td>Out &amp; Back</td>\n",
       "      <td>Upper Yosemite Falls Trail is a 7.6 mile heavi...</td>\n",
       "      <td>Yosemite National Park charges a fee to enter....</td>\n",
       "      <td>['Hiking', 'Bird watching', 'River', 'Views', ...</td>\n",
       "      <td>3219</td>\n",
       "      <td>...</td>\n",
       "      <td>7321</td>\n",
       "      <td>california</td>\n",
       "      <td>CA</td>\n",
       "      <td>3</td>\n",
       "      <td>261</td>\n",
       "      <td>1</td>\n",
       "      <td>10</td>\n",
       "      <td>7.6</td>\n",
       "      <td>270.0</td>\n",
       "      <td>4.808990</td>\n",
       "    </tr>\n",
       "    <tr>\n",
       "      <th>10</th>\n",
       "      <td>Half Dome Trail</td>\n",
       "      <td>5.0</td>\n",
       "      <td>1943</td>\n",
       "      <td>Yosemite National Park</td>\n",
       "      <td>5206.0</td>\n",
       "      <td>Out &amp; Back</td>\n",
       "      <td>Half Dome Trail is a 15 mile heavily trafficke...</td>\n",
       "      <td>Yosemite National Park charges a fee to enter....</td>\n",
       "      <td>['Hiking', 'Nature trips', 'Rock climbing', 'S...</td>\n",
       "      <td>8249</td>\n",
       "      <td>...</td>\n",
       "      <td>6994</td>\n",
       "      <td>california</td>\n",
       "      <td>CA</td>\n",
       "      <td>3</td>\n",
       "      <td>280</td>\n",
       "      <td>1</td>\n",
       "      <td>17</td>\n",
       "      <td>15.0</td>\n",
       "      <td>541.0</td>\n",
       "      <td>4.793312</td>\n",
       "    </tr>\n",
       "    <tr>\n",
       "      <th>15</th>\n",
       "      <td>Dipsea, Steep Ravine, and Matt Davis Loop</td>\n",
       "      <td>5.0</td>\n",
       "      <td>1743</td>\n",
       "      <td>Mount Tamalpais State Park</td>\n",
       "      <td>1702.0</td>\n",
       "      <td>Loop</td>\n",
       "      <td>Dipsea, Steep Ravine, and Matt Davis Loop is a...</td>\n",
       "      <td>Hike from the Pacific Ocean all the way up to ...</td>\n",
       "      <td>['Hiking', 'Nature trips', 'Bird watching', 'R...</td>\n",
       "      <td>5050</td>\n",
       "      <td>...</td>\n",
       "      <td>5814</td>\n",
       "      <td>california</td>\n",
       "      <td>CA</td>\n",
       "      <td>2</td>\n",
       "      <td>287</td>\n",
       "      <td>1</td>\n",
       "      <td>12</td>\n",
       "      <td>6.7</td>\n",
       "      <td>221.0</td>\n",
       "      <td>4.780390</td>\n",
       "    </tr>\n",
       "    <tr>\n",
       "      <th>20</th>\n",
       "      <td>Icehouse Canyon to Cucamonga Peak Trail</td>\n",
       "      <td>5.0</td>\n",
       "      <td>1703</td>\n",
       "      <td>Cucamonga Wilderness</td>\n",
       "      <td>4314.0</td>\n",
       "      <td>Out &amp; Back</td>\n",
       "      <td>Icehouse Canyon to Cucamonga Peak Trail is a 1...</td>\n",
       "      <td>Day/overnight permits are now required for Cuc...</td>\n",
       "      <td>['Dogs on leash', 'Backpacking', 'Camping', 'H...</td>\n",
       "      <td>4921</td>\n",
       "      <td>...</td>\n",
       "      <td>4587</td>\n",
       "      <td>california</td>\n",
       "      <td>CA</td>\n",
       "      <td>3</td>\n",
       "      <td>355</td>\n",
       "      <td>1</td>\n",
       "      <td>11</td>\n",
       "      <td>11.6</td>\n",
       "      <td>455.0</td>\n",
       "      <td>4.777609</td>\n",
       "    </tr>\n",
       "    <tr>\n",
       "      <th>17</th>\n",
       "      <td>Mount San Antonio and Mount Baldy Notch Trail</td>\n",
       "      <td>5.0</td>\n",
       "      <td>1555</td>\n",
       "      <td>Angeles National Forest</td>\n",
       "      <td>3940.0</td>\n",
       "      <td>Loop</td>\n",
       "      <td>Mount San Antonio and Mount Baldy Notch Trail ...</td>\n",
       "      <td>A strenuous loop to the 10,068' summit of Bald...</td>\n",
       "      <td>['Dog friendly', 'Hiking', 'Nature trips', 'Sn...</td>\n",
       "      <td>6533</td>\n",
       "      <td>...</td>\n",
       "      <td>5370</td>\n",
       "      <td>california</td>\n",
       "      <td>CA</td>\n",
       "      <td>3</td>\n",
       "      <td>339</td>\n",
       "      <td>1</td>\n",
       "      <td>17</td>\n",
       "      <td>11.5</td>\n",
       "      <td>342.0</td>\n",
       "      <td>4.766678</td>\n",
       "    </tr>\n",
       "    <tr>\n",
       "      <th>70</th>\n",
       "      <td>Lake Chabot: West Shore, Bass Cove, Columbine,...</td>\n",
       "      <td>4.5</td>\n",
       "      <td>1457</td>\n",
       "      <td>Lake Chabot Regional Park</td>\n",
       "      <td>836.0</td>\n",
       "      <td>Loop</td>\n",
       "      <td>Lake Chabot: West Shore, Bass Cove, Columbine,...</td>\n",
       "      <td>Dogs on leash in developed areas/under voice c...</td>\n",
       "      <td>['Dogs on leash', 'Kid friendly', 'Backpacking...</td>\n",
       "      <td>2406</td>\n",
       "      <td>...</td>\n",
       "      <td>2645</td>\n",
       "      <td>california</td>\n",
       "      <td>CA</td>\n",
       "      <td>2</td>\n",
       "      <td>369</td>\n",
       "      <td>1</td>\n",
       "      <td>22</td>\n",
       "      <td>9.0</td>\n",
       "      <td>237.0</td>\n",
       "      <td>4.508747</td>\n",
       "    </tr>\n",
       "    <tr>\n",
       "      <th>134</th>\n",
       "      <td>Monserate Mountain Trail Loop</td>\n",
       "      <td>4.5</td>\n",
       "      <td>1482</td>\n",
       "      <td>Fallbrook, California</td>\n",
       "      <td>1381.0</td>\n",
       "      <td>Loop</td>\n",
       "      <td>Monserate Mountain Trail Loop is a 4.1 mile he...</td>\n",
       "      <td>Plenty of parking right off the road.</td>\n",
       "      <td>['Dogs on leash', 'Hiking', 'Nature trips', 'B...</td>\n",
       "      <td>811</td>\n",
       "      <td>...</td>\n",
       "      <td>1869</td>\n",
       "      <td>california</td>\n",
       "      <td>CA</td>\n",
       "      <td>2</td>\n",
       "      <td>346</td>\n",
       "      <td>1</td>\n",
       "      <td>8</td>\n",
       "      <td>4.1</td>\n",
       "      <td>155.0</td>\n",
       "      <td>4.508673</td>\n",
       "    </tr>\n",
       "  </tbody>\n",
       "</table>\n",
       "<p>10 rows × 21 columns</p>\n",
       "</div>"
      ],
      "text/plain": [
       "                                                  name  stars  review_count  \\\n",
       "0           Vernal and Nevada Falls via the Mist Trail    5.0          2870   \n",
       "9                                         Vernal Falls    5.0          2323   \n",
       "7                                   Mount Tallac Trail    5.0          2248   \n",
       "5                           Upper Yosemite Falls Trail    5.0          2222   \n",
       "10                                     Half Dome Trail    5.0          1943   \n",
       "15           Dipsea, Steep Ravine, and Matt Davis Loop    5.0          1743   \n",
       "20             Icehouse Canyon to Cucamonga Peak Trail    5.0          1703   \n",
       "17       Mount San Antonio and Mount Baldy Notch Trail    5.0          1555   \n",
       "70   Lake Chabot: West Shore, Bass Cove, Columbine,...    4.5          1457   \n",
       "134                      Monserate Mountain Trail Loop    4.5          1482   \n",
       "\n",
       "                       location  elevation  route_type  \\\n",
       "0        Yosemite National Park     2191.0        Loop   \n",
       "9        Yosemite National Park     1279.0  Out & Back   \n",
       "7         Desolation Wilderness     3330.0  Out & Back   \n",
       "5        Yosemite National Park     3231.0  Out & Back   \n",
       "10       Yosemite National Park     5206.0  Out & Back   \n",
       "15   Mount Tamalpais State Park     1702.0        Loop   \n",
       "20         Cucamonga Wilderness     4314.0  Out & Back   \n",
       "17      Angeles National Forest     3940.0        Loop   \n",
       "70    Lake Chabot Regional Park      836.0        Loop   \n",
       "134       Fallbrook, California     1381.0        Loop   \n",
       "\n",
       "                                     short_description  \\\n",
       "0    Vernal and Nevada Falls via the Mist Trail is ...   \n",
       "9    Vernal Falls is a 4 mile heavily trafficked ou...   \n",
       "7    Mount Tallac Trail is a 10.9 mile heavily traf...   \n",
       "5    Upper Yosemite Falls Trail is a 7.6 mile heavi...   \n",
       "10   Half Dome Trail is a 15 mile heavily trafficke...   \n",
       "15   Dipsea, Steep Ravine, and Matt Davis Loop is a...   \n",
       "20   Icehouse Canyon to Cucamonga Peak Trail is a 1...   \n",
       "17   Mount San Antonio and Mount Baldy Notch Trail ...   \n",
       "70   Lake Chabot: West Shore, Bass Cove, Columbine,...   \n",
       "134  Monserate Mountain Trail Loop is a 4.1 mile he...   \n",
       "\n",
       "                                      long_description  \\\n",
       "0    Yosemite National Park charges a fee to enter....   \n",
       "9    Yosemite National Park charges a fee to enter....   \n",
       "7    There is parking alongside the street. A wilde...   \n",
       "5    Yosemite National Park charges a fee to enter....   \n",
       "10   Yosemite National Park charges a fee to enter....   \n",
       "15   Hike from the Pacific Ocean all the way up to ...   \n",
       "20   Day/overnight permits are now required for Cuc...   \n",
       "17   A strenuous loop to the 10,068' summit of Bald...   \n",
       "70   Dogs on leash in developed areas/under voice c...   \n",
       "134              Plenty of parking right off the road.   \n",
       "\n",
       "                                              tag_list  n_photos  ...  \\\n",
       "0    ['Hiking', 'Forest', 'Partially paved', 'River...      7461  ...   \n",
       "9    ['Kid friendly', 'Hiking', 'Nature trips', 'Wa...      4717  ...   \n",
       "7    ['Dogs on leash', 'Hiking', 'Nature trips', 'R...      2941  ...   \n",
       "5    ['Hiking', 'Bird watching', 'River', 'Views', ...      3219  ...   \n",
       "10   ['Hiking', 'Nature trips', 'Rock climbing', 'S...      8249  ...   \n",
       "15   ['Hiking', 'Nature trips', 'Bird watching', 'R...      5050  ...   \n",
       "20   ['Dogs on leash', 'Backpacking', 'Camping', 'H...      4921  ...   \n",
       "17   ['Dog friendly', 'Hiking', 'Nature trips', 'Sn...      6533  ...   \n",
       "70   ['Dogs on leash', 'Kid friendly', 'Backpacking...      2406  ...   \n",
       "134  ['Dogs on leash', 'Hiking', 'Nature trips', 'B...       811  ...   \n",
       "\n",
       "     n_completed       state State difficulty  short  long  n_tags  distance  \\\n",
       "0          13298  california    CA          3    260     1      13       8.8   \n",
       "9           8000  california    CA          2    263     1      12       4.0   \n",
       "7           4604  california    CA          3    312     1      13      10.9   \n",
       "5           7321  california    CA          3    261     1      10       7.6   \n",
       "10          6994  california    CA          3    280     1      17      15.0   \n",
       "15          5814  california    CA          2    287     1      12       6.7   \n",
       "20          4587  california    CA          3    355     1      11      11.6   \n",
       "17          5370  california    CA          3    339     1      17      11.5   \n",
       "70          2645  california    CA          2    369     1      22       9.0   \n",
       "134         1869  california    CA          2    346     1       8       4.1   \n",
       "\n",
       "     duration       WSR  \n",
       "0       301.0  4.837601  \n",
       "9       136.0  4.814095  \n",
       "7       383.0  4.810331  \n",
       "5       270.0  4.808990  \n",
       "10      541.0  4.793312  \n",
       "15      221.0  4.780390  \n",
       "20      455.0  4.777609  \n",
       "17      342.0  4.766678  \n",
       "70      237.0  4.508747  \n",
       "134     155.0  4.508673  \n",
       "\n",
       "[10 rows x 21 columns]"
      ]
     },
     "execution_count": 9,
     "metadata": {},
     "output_type": "execute_result"
    }
   ],
   "source": [
    "m = df['review_count'].quantile(q=0.95)\n",
    "C = df['stars'].mean()\n",
    "print(f'minimum number of review count:     {m}\\naverage star rating:                 {C}')\n",
    "\n",
    "df_Q = df[ df['review_count'] > m]\n",
    "df_Q['WSR'] = df_Q.apply(weighted_star_rating, axis=1)\n",
    "df_Q.sort_values('WSR', ascending = False)[:10]"
   ]
  },
  {
   "cell_type": "code",
   "execution_count": 11,
   "metadata": {},
   "outputs": [
    {
     "data": {
      "text/plain": [
       "count    50.000000\n",
       "mean      4.548432\n",
       "std       0.117174\n",
       "min       4.234368\n",
       "25%       4.506643\n",
       "50%       4.507985\n",
       "75%       4.508539\n",
       "max       4.837601\n",
       "Name: WSR, dtype: float64"
      ]
     },
     "execution_count": 11,
     "metadata": {},
     "output_type": "execute_result"
    }
   ],
   "source": [
    "df_Q['WSR'].describe()"
   ]
  },
  {
   "cell_type": "code",
   "execution_count": 13,
   "metadata": {},
   "outputs": [
    {
     "data": {
      "text/plain": [
       "count    1000.000000\n",
       "mean        4.517500\n",
       "std         0.187026\n",
       "min         3.500000\n",
       "25%         4.500000\n",
       "50%         4.500000\n",
       "75%         4.500000\n",
       "max         5.000000\n",
       "Name: stars, dtype: float64"
      ]
     },
     "execution_count": 13,
     "metadata": {},
     "output_type": "execute_result"
    }
   ],
   "source": [
    "df['stars'].describe()"
   ]
  },
  {
   "cell_type": "markdown",
   "metadata": {},
   "source": [
    "## Checking to see if different values of threshhold changes the top 5 list"
   ]
  },
  {
   "cell_type": "code",
   "execution_count": 9,
   "metadata": {},
   "outputs": [
    {
     "name": "stdout",
     "output_type": "stream",
     "text": [
      "['Vernal and Nevada Falls via the Mist Trail', 'Vernal Falls', 'Mount Tallac Trail', 'Upper Yosemite Falls Trail', 'Half Dome Trail']\n",
      "['Vernal and Nevada Falls via the Mist Trail', 'Vernal Falls', 'Mount Tallac Trail', 'Upper Yosemite Falls Trail', 'Half Dome Trail']\n",
      "['Vernal and Nevada Falls via the Mist Trail', 'Vernal Falls', 'Mount Tallac Trail', 'Upper Yosemite Falls Trail', 'Half Dome Trail']\n",
      "['Vernal and Nevada Falls via the Mist Trail', 'Vernal Falls', 'Mount Tallac Trail', 'Upper Yosemite Falls Trail', 'Half Dome Trail']\n",
      "['Vernal and Nevada Falls via the Mist Trail', 'Vernal Falls', 'Mount Tallac Trail', 'Upper Yosemite Falls Trail', 'Half Dome Trail']\n",
      "['Vernal and Nevada Falls via the Mist Trail', 'Vernal Falls', 'Mount Tallac Trail', 'Upper Yosemite Falls Trail', 'Half Dome Trail']\n",
      "['Vernal and Nevada Falls via the Mist Trail', 'Vernal Falls', 'Mount Tallac Trail', 'Upper Yosemite Falls Trail', 'Half Dome Trail']\n",
      "['Vernal and Nevada Falls via the Mist Trail', 'Vernal Falls', 'Mount Tallac Trail', 'Upper Yosemite Falls Trail', 'Half Dome Trail']\n",
      "['Vernal and Nevada Falls via the Mist Trail', 'Vernal Falls', 'Mount Tallac Trail', 'Upper Yosemite Falls Trail', 'Half Dome Trail']\n",
      "['Vernal and Nevada Falls via the Mist Trail', 'Vernal Falls', 'Mount Tallac Trail', 'Upper Yosemite Falls Trail', 'Half Dome Trail']\n",
      "['Vernal and Nevada Falls via the Mist Trail', 'Vernal Falls', 'Mount Tallac Trail', 'Upper Yosemite Falls Trail', 'Half Dome Trail']\n",
      "['Vernal and Nevada Falls via the Mist Trail', 'Vernal Falls', 'Mount Tallac Trail', 'Upper Yosemite Falls Trail', 'Half Dome Trail']\n",
      "['Vernal and Nevada Falls via the Mist Trail', 'Vernal Falls', 'Mount Tallac Trail', 'Upper Yosemite Falls Trail', 'Half Dome Trail']\n",
      "['Vernal and Nevada Falls via the Mist Trail', 'Vernal Falls', 'Mount Tallac Trail', 'Upper Yosemite Falls Trail', 'Half Dome Trail']\n",
      "['Vernal and Nevada Falls via the Mist Trail', 'Vernal Falls', 'Mount Tallac Trail', 'Upper Yosemite Falls Trail', 'Icehouse Canyon to Icehouse Saddle']\n"
     ]
    },
    {
     "name": "stderr",
     "output_type": "stream",
     "text": [
      "<ipython-input-9-8121ed07d6e0>:5: SettingWithCopyWarning: \n",
      "A value is trying to be set on a copy of a slice from a DataFrame.\n",
      "Try using .loc[row_indexer,col_indexer] = value instead\n",
      "\n",
      "See the caveats in the documentation: https://pandas.pydata.org/pandas-docs/stable/user_guide/indexing.html#returning-a-view-versus-a-copy\n",
      "  df_Q['WSR'] = df_Q.apply(weighted_star_rating, axis=1)\n"
     ]
    }
   ],
   "source": [
    "for i in np.arange(0.70,0.999,0.02):\n",
    "    m = df['review_count'].quantile(q=i)\n",
    "    C = df['stars'].mean()\n",
    "    df_Q = df[ df['review_count'] > m]\n",
    "    df_Q['WSR'] = df_Q.apply(weighted_star_rating, axis=1)\n",
    "    print(list(df_Q.sort_values('WSR', ascending = False)[:5].name))"
   ]
  },
  {
   "cell_type": "markdown",
   "metadata": {},
   "source": [
    "## Now we can build a popularity chart for specific regions"
   ]
  },
  {
   "cell_type": "code",
   "execution_count": 10,
   "metadata": {},
   "outputs": [],
   "source": [
    "region_list = list(df.groupby('location').count().sort_values('name', ascending=False).index)\n",
    "df_Yosemite = df[df['location']=='Yosemite National Park']"
   ]
  },
  {
   "cell_type": "code",
   "execution_count": 11,
   "metadata": {},
   "outputs": [],
   "source": [
    "def pop_chart_per_region(region):\n",
    "    df_region =  df[df['location']==region]\n",
    "    m = df['review_count'].quantile(q=0.70)\n",
    "    C = df['stars'].mean()\n",
    "    df_Q = df_region[ df_region['review_count'] > m]\n",
    "    df_Q['WSR'] = df_Q.apply(weighted_star_rating, axis=1)\n",
    "    print(list(df_Q.sort_values('WSR', ascending = False)[:5].name))"
   ]
  },
  {
   "cell_type": "code",
   "execution_count": 12,
   "metadata": {},
   "outputs": [
    {
     "name": "stdout",
     "output_type": "stream",
     "text": [
      "Yosemite National Park :\n",
      "['Vernal and Nevada Falls via the Mist Trail', 'Vernal Falls', 'Upper Yosemite Falls Trail', 'Half Dome Trail', 'Four Mile Trail']\n",
      "Angeles National Forest :\n",
      "['Mount San Antonio and Mount Baldy Notch Trail', 'Mount San Antonio via Baldy Bowl Trail', 'San Antonio Falls Trail', 'Sunset Peak Trail', 'Bailey Canyon Trail to Jones Peak']\n",
      "Tahoe National Forest :\n",
      "['Donner Peak Trail', 'Castle Peak Trail', 'Mount Judah Loop Trail', 'Tahoe Rim Trail to Picnic Rock Viewpoint', 'Loch Leven Lakes Trail']\n",
      "Golden Gate National Recreation Area :\n",
      "['Sweeney Ridge Trail via Mori Ridge', 'Rodeo Beach Coastal Trail Loop', 'Mori Point Loop Trail', 'Lands End Trail']\n",
      "San Bernardino National Forest :\n",
      "['Bertha Peak Trail', 'Bear Lake Woodland Trail', 'Cougar Crest Trail ', 'Castle Rock Trail', 'Pine Knot Trail to Grand View Point']\n"
     ]
    },
    {
     "name": "stderr",
     "output_type": "stream",
     "text": [
      "<ipython-input-11-5fbe56736ff9>:6: SettingWithCopyWarning: \n",
      "A value is trying to be set on a copy of a slice from a DataFrame.\n",
      "Try using .loc[row_indexer,col_indexer] = value instead\n",
      "\n",
      "See the caveats in the documentation: https://pandas.pydata.org/pandas-docs/stable/user_guide/indexing.html#returning-a-view-versus-a-copy\n",
      "  df_Q['WSR'] = df_Q.apply(weighted_star_rating, axis=1)\n"
     ]
    }
   ],
   "source": [
    "for i in range(5):\n",
    "    print(region_list[i],':')\n",
    "    pop_chart_per_region(region_list[i])"
   ]
  },
  {
   "cell_type": "markdown",
   "metadata": {},
   "source": [
    "## Build a popularity chart for specific difficulty level"
   ]
  },
  {
   "cell_type": "code",
   "execution_count": 13,
   "metadata": {},
   "outputs": [],
   "source": [
    "def pop_chart_per_difficulty(difficulty, quantile=0.95):\n",
    "    df_region =  df[df['difficulty']==difficulty]\n",
    "    m = df['review_count'].quantile(q=quantile)\n",
    "    C = df['stars'].mean()\n",
    "    df_Q = df_region[ df_region['review_count'] > m]\n",
    "    df_Q['WSR'] = df_Q.apply(weighted_star_rating, axis=1)\n",
    "    return df_Q.sort_values('WSR', ascending = False)"
   ]
  },
  {
   "cell_type": "markdown",
   "metadata": {},
   "source": [
    "## Top popular hikes among 'difficult' hikes"
   ]
  },
  {
   "cell_type": "code",
   "execution_count": 14,
   "metadata": {},
   "outputs": [
    {
     "name": "stderr",
     "output_type": "stream",
     "text": [
      "<ipython-input-13-138d2a1b9930>:6: SettingWithCopyWarning: \n",
      "A value is trying to be set on a copy of a slice from a DataFrame.\n",
      "Try using .loc[row_indexer,col_indexer] = value instead\n",
      "\n",
      "See the caveats in the documentation: https://pandas.pydata.org/pandas-docs/stable/user_guide/indexing.html#returning-a-view-versus-a-copy\n",
      "  df_Q['WSR'] = df_Q.apply(weighted_star_rating, axis=1)\n"
     ]
    },
    {
     "data": {
      "text/html": [
       "<div>\n",
       "<style scoped>\n",
       "    .dataframe tbody tr th:only-of-type {\n",
       "        vertical-align: middle;\n",
       "    }\n",
       "\n",
       "    .dataframe tbody tr th {\n",
       "        vertical-align: top;\n",
       "    }\n",
       "\n",
       "    .dataframe thead th {\n",
       "        text-align: right;\n",
       "    }\n",
       "</style>\n",
       "<table border=\"1\" class=\"dataframe\">\n",
       "  <thead>\n",
       "    <tr style=\"text-align: right;\">\n",
       "      <th></th>\n",
       "      <th>duration</th>\n",
       "      <th>route_type</th>\n",
       "      <th>location</th>\n",
       "      <th>name</th>\n",
       "      <th>distance</th>\n",
       "      <th>elevation</th>\n",
       "      <th>review_count</th>\n",
       "      <th>stars</th>\n",
       "      <th>WSR</th>\n",
       "    </tr>\n",
       "  </thead>\n",
       "  <tbody>\n",
       "    <tr>\n",
       "      <th>0</th>\n",
       "      <td>301.0</td>\n",
       "      <td>Loop</td>\n",
       "      <td>Yosemite National Park</td>\n",
       "      <td>Vernal and Nevada Falls via the Mist Trail</td>\n",
       "      <td>8.8</td>\n",
       "      <td>2191.0</td>\n",
       "      <td>2870</td>\n",
       "      <td>5.0</td>\n",
       "      <td>4.795676</td>\n",
       "    </tr>\n",
       "    <tr>\n",
       "      <th>7</th>\n",
       "      <td>383.0</td>\n",
       "      <td>Out &amp; Back</td>\n",
       "      <td>Desolation Wilderness</td>\n",
       "      <td>Mount Tallac Trail</td>\n",
       "      <td>10.9</td>\n",
       "      <td>3330.0</td>\n",
       "      <td>2248</td>\n",
       "      <td>5.0</td>\n",
       "      <td>4.766500</td>\n",
       "    </tr>\n",
       "    <tr>\n",
       "      <th>5</th>\n",
       "      <td>270.0</td>\n",
       "      <td>Out &amp; Back</td>\n",
       "      <td>Yosemite National Park</td>\n",
       "      <td>Upper Yosemite Falls Trail</td>\n",
       "      <td>7.6</td>\n",
       "      <td>3231.0</td>\n",
       "      <td>2222</td>\n",
       "      <td>5.0</td>\n",
       "      <td>4.765098</td>\n",
       "    </tr>\n",
       "    <tr>\n",
       "      <th>10</th>\n",
       "      <td>541.0</td>\n",
       "      <td>Out &amp; Back</td>\n",
       "      <td>Yosemite National Park</td>\n",
       "      <td>Half Dome Trail</td>\n",
       "      <td>15.0</td>\n",
       "      <td>5206.0</td>\n",
       "      <td>1943</td>\n",
       "      <td>5.0</td>\n",
       "      <td>4.748920</td>\n",
       "    </tr>\n",
       "    <tr>\n",
       "      <th>20</th>\n",
       "      <td>455.0</td>\n",
       "      <td>Out &amp; Back</td>\n",
       "      <td>Cucamonga Wilderness</td>\n",
       "      <td>Icehouse Canyon to Cucamonga Peak Trail</td>\n",
       "      <td>11.6</td>\n",
       "      <td>4314.0</td>\n",
       "      <td>1703</td>\n",
       "      <td>5.0</td>\n",
       "      <td>4.733109</td>\n",
       "    </tr>\n",
       "  </tbody>\n",
       "</table>\n",
       "</div>"
      ],
      "text/plain": [
       "    duration  route_type                location  \\\n",
       "0      301.0        Loop  Yosemite National Park   \n",
       "7      383.0  Out & Back   Desolation Wilderness   \n",
       "5      270.0  Out & Back  Yosemite National Park   \n",
       "10     541.0  Out & Back  Yosemite National Park   \n",
       "20     455.0  Out & Back    Cucamonga Wilderness   \n",
       "\n",
       "                                          name  distance  elevation  \\\n",
       "0   Vernal and Nevada Falls via the Mist Trail       8.8     2191.0   \n",
       "7                           Mount Tallac Trail      10.9     3330.0   \n",
       "5                   Upper Yosemite Falls Trail       7.6     3231.0   \n",
       "10                             Half Dome Trail      15.0     5206.0   \n",
       "20     Icehouse Canyon to Cucamonga Peak Trail      11.6     4314.0   \n",
       "\n",
       "    review_count  stars       WSR  \n",
       "0           2870    5.0  4.795676  \n",
       "7           2248    5.0  4.766500  \n",
       "5           2222    5.0  4.765098  \n",
       "10          1943    5.0  4.748920  \n",
       "20          1703    5.0  4.733109  "
      ]
     },
     "execution_count": 14,
     "metadata": {},
     "output_type": "execute_result"
    }
   ],
   "source": [
    "top_difficult = pop_chart_per_difficulty(3, 0.80)\n",
    "top_difficult[{'name',  'WSR', 'stars', 'review_count', 'location','elevation','distance', 'duration', 'route_type'}][:5]"
   ]
  },
  {
   "cell_type": "markdown",
   "metadata": {},
   "source": [
    "## Top popular hikes among 'moderate' hikes"
   ]
  },
  {
   "cell_type": "code",
   "execution_count": 15,
   "metadata": {},
   "outputs": [
    {
     "name": "stderr",
     "output_type": "stream",
     "text": [
      "<ipython-input-13-138d2a1b9930>:6: SettingWithCopyWarning: \n",
      "A value is trying to be set on a copy of a slice from a DataFrame.\n",
      "Try using .loc[row_indexer,col_indexer] = value instead\n",
      "\n",
      "See the caveats in the documentation: https://pandas.pydata.org/pandas-docs/stable/user_guide/indexing.html#returning-a-view-versus-a-copy\n",
      "  df_Q['WSR'] = df_Q.apply(weighted_star_rating, axis=1)\n"
     ]
    },
    {
     "data": {
      "text/html": [
       "<div>\n",
       "<style scoped>\n",
       "    .dataframe tbody tr th:only-of-type {\n",
       "        vertical-align: middle;\n",
       "    }\n",
       "\n",
       "    .dataframe tbody tr th {\n",
       "        vertical-align: top;\n",
       "    }\n",
       "\n",
       "    .dataframe thead th {\n",
       "        text-align: right;\n",
       "    }\n",
       "</style>\n",
       "<table border=\"1\" class=\"dataframe\">\n",
       "  <thead>\n",
       "    <tr style=\"text-align: right;\">\n",
       "      <th></th>\n",
       "      <th>duration</th>\n",
       "      <th>route_type</th>\n",
       "      <th>location</th>\n",
       "      <th>name</th>\n",
       "      <th>distance</th>\n",
       "      <th>elevation</th>\n",
       "      <th>review_count</th>\n",
       "      <th>stars</th>\n",
       "      <th>WSR</th>\n",
       "    </tr>\n",
       "  </thead>\n",
       "  <tbody>\n",
       "    <tr>\n",
       "      <th>9</th>\n",
       "      <td>136.0</td>\n",
       "      <td>Out &amp; Back</td>\n",
       "      <td>Yosemite National Park</td>\n",
       "      <td>Vernal Falls</td>\n",
       "      <td>4.0</td>\n",
       "      <td>1279.0</td>\n",
       "      <td>2323</td>\n",
       "      <td>5.0</td>\n",
       "      <td>4.770452</td>\n",
       "    </tr>\n",
       "    <tr>\n",
       "      <th>15</th>\n",
       "      <td>221.0</td>\n",
       "      <td>Loop</td>\n",
       "      <td>Mount Tamalpais State Park</td>\n",
       "      <td>Dipsea, Steep Ravine, and Matt Davis Loop</td>\n",
       "      <td>6.7</td>\n",
       "      <td>1702.0</td>\n",
       "      <td>1743</td>\n",
       "      <td>5.0</td>\n",
       "      <td>4.735881</td>\n",
       "    </tr>\n",
       "    <tr>\n",
       "      <th>46</th>\n",
       "      <td>192.0</td>\n",
       "      <td>Loop</td>\n",
       "      <td>Point Lobos State Natural Reserve</td>\n",
       "      <td>Point Lobos Loop Trail</td>\n",
       "      <td>6.7</td>\n",
       "      <td>741.0</td>\n",
       "      <td>1036</td>\n",
       "      <td>5.0</td>\n",
       "      <td>4.676489</td>\n",
       "    </tr>\n",
       "    <tr>\n",
       "      <th>88</th>\n",
       "      <td>250.0</td>\n",
       "      <td>Loop</td>\n",
       "      <td>Mount Tamalpais State Park</td>\n",
       "      <td>Dipsea Steep Ravine Matt Davis Loop Trail from...</td>\n",
       "      <td>7.4</td>\n",
       "      <td>1748.0</td>\n",
       "      <td>1004</td>\n",
       "      <td>5.0</td>\n",
       "      <td>4.673162</td>\n",
       "    </tr>\n",
       "    <tr>\n",
       "      <th>38</th>\n",
       "      <td>490.0</td>\n",
       "      <td>Out &amp; Back</td>\n",
       "      <td>D. L. Bliss State Park</td>\n",
       "      <td>Rubicon Trail</td>\n",
       "      <td>16.4</td>\n",
       "      <td>2306.0</td>\n",
       "      <td>962</td>\n",
       "      <td>5.0</td>\n",
       "      <td>4.668691</td>\n",
       "    </tr>\n",
       "  </tbody>\n",
       "</table>\n",
       "</div>"
      ],
      "text/plain": [
       "    duration  route_type                           location  \\\n",
       "9      136.0  Out & Back             Yosemite National Park   \n",
       "15     221.0        Loop         Mount Tamalpais State Park   \n",
       "46     192.0        Loop  Point Lobos State Natural Reserve   \n",
       "88     250.0        Loop         Mount Tamalpais State Park   \n",
       "38     490.0  Out & Back             D. L. Bliss State Park   \n",
       "\n",
       "                                                 name  distance  elevation  \\\n",
       "9                                        Vernal Falls       4.0     1279.0   \n",
       "15          Dipsea, Steep Ravine, and Matt Davis Loop       6.7     1702.0   \n",
       "46                             Point Lobos Loop Trail       6.7      741.0   \n",
       "88  Dipsea Steep Ravine Matt Davis Loop Trail from...       7.4     1748.0   \n",
       "38                                      Rubicon Trail      16.4     2306.0   \n",
       "\n",
       "    review_count  stars       WSR  \n",
       "9           2323    5.0  4.770452  \n",
       "15          1743    5.0  4.735881  \n",
       "46          1036    5.0  4.676489  \n",
       "88          1004    5.0  4.673162  \n",
       "38           962    5.0  4.668691  "
      ]
     },
     "execution_count": 15,
     "metadata": {},
     "output_type": "execute_result"
    }
   ],
   "source": [
    "moderate_difficult = pop_chart_per_difficulty(2, 0.80)\n",
    "moderate_difficult[{'name',  'WSR', 'stars', 'review_count', 'location','elevation','distance', 'duration', 'route_type'}][:5]"
   ]
  },
  {
   "cell_type": "code",
   "execution_count": null,
   "metadata": {},
   "outputs": [],
   "source": []
  }
 ],
 "metadata": {
  "kernelspec": {
   "display_name": "Python 3",
   "language": "python",
   "name": "python3"
  },
  "language_info": {
   "codemirror_mode": {
    "name": "ipython",
    "version": 3
   },
   "file_extension": ".py",
   "mimetype": "text/x-python",
   "name": "python",
   "nbconvert_exporter": "python",
   "pygments_lexer": "ipython3",
   "version": "3.8.3"
  }
 },
 "nbformat": 4,
 "nbformat_minor": 4
}
