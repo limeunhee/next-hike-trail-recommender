{
 "cells": [
  {
   "cell_type": "markdown",
   "metadata": {},
   "source": [
    "# Move on to next jupyter notebook for modeling"
   ]
  },
  {
   "cell_type": "code",
   "execution_count": 52,
   "metadata": {},
   "outputs": [
    {
     "data": {
      "text/plain": [
       "(579782, 14)"
      ]
     },
     "execution_count": 52,
     "metadata": {},
     "output_type": "execute_result"
    }
   ],
   "source": [
    "import glob, os    \n",
    "import pandas as pd\n",
    "\n",
    "df_CA = pd.read_csv('csv2/combined/CA.csv')\n",
    "cols = ['user_name', 'trail', 'trail_url', 'stars', 'date', 'review_text', \n",
    "       'trail_avg_star','difficulty', 'distance', 'elevation', 'route_type',  'location','tag_list',\n",
    "       'short_description']\n",
    "df_CA=df_CA[cols]\n",
    "df_CA.shape"
   ]
  },
  {
   "cell_type": "markdown",
   "metadata": {},
   "source": [
    "## Convert 'stars' column from string to int value"
   ]
  },
  {
   "cell_type": "code",
   "execution_count": 53,
   "metadata": {},
   "outputs": [],
   "source": [
    "def convert_stars_to_int(x):\n",
    "    star = x.split(' ')[0]\n",
    "    try:\n",
    "        int(star)\n",
    "        rating = int(star)\n",
    "    except:\n",
    "        rating = None\n",
    "    return rating"
   ]
  },
  {
   "cell_type": "code",
   "execution_count": 54,
   "metadata": {},
   "outputs": [
    {
     "data": {
      "text/plain": [
       "array([ 5.,  4.,  3., nan,  0.,  2.,  1., -1.])"
      ]
     },
     "execution_count": 54,
     "metadata": {},
     "output_type": "execute_result"
    }
   ],
   "source": [
    "df_CA['stars']= df_CA['stars'].apply(convert_stars_to_int)\n",
    "df_CA['stars'].unique()"
   ]
  },
  {
   "cell_type": "code",
   "execution_count": 55,
   "metadata": {},
   "outputs": [],
   "source": [
    "## Remove odd star ratings (0, -1) after checking the review text. They seem to have no review_text indicating that it is likely an error\n",
    "df_CA = df_CA[df_CA['stars'].isin([1,2,3,4,5])]"
   ]
  },
  {
   "cell_type": "markdown",
   "metadata": {},
   "source": [
    "## Convert date to datetime format"
   ]
  },
  {
   "cell_type": "code",
   "execution_count": 56,
   "metadata": {},
   "outputs": [],
   "source": [
    "df_CA['date']= pd.to_datetime(df_CA['date'], infer_datetime_format=True)"
   ]
  },
  {
   "cell_type": "code",
   "execution_count": 57,
   "metadata": {},
   "outputs": [
    {
     "data": {
      "text/html": [
       "<div>\n",
       "<style scoped>\n",
       "    .dataframe tbody tr th:only-of-type {\n",
       "        vertical-align: middle;\n",
       "    }\n",
       "\n",
       "    .dataframe tbody tr th {\n",
       "        vertical-align: top;\n",
       "    }\n",
       "\n",
       "    .dataframe thead th {\n",
       "        text-align: right;\n",
       "    }\n",
       "</style>\n",
       "<table border=\"1\" class=\"dataframe\">\n",
       "  <thead>\n",
       "    <tr style=\"text-align: right;\">\n",
       "      <th></th>\n",
       "      <th>user_name</th>\n",
       "      <th>trail</th>\n",
       "      <th>trail_url</th>\n",
       "      <th>stars</th>\n",
       "      <th>date</th>\n",
       "      <th>review_text</th>\n",
       "      <th>trail_avg_star</th>\n",
       "      <th>difficulty</th>\n",
       "      <th>distance</th>\n",
       "      <th>elevation</th>\n",
       "      <th>route_type</th>\n",
       "      <th>location</th>\n",
       "      <th>tag_list</th>\n",
       "      <th>short_description</th>\n",
       "    </tr>\n",
       "  </thead>\n",
       "  <tbody>\n",
       "    <tr>\n",
       "      <th>0</th>\n",
       "      <td>Melody Romero</td>\n",
       "      <td>Tuolumne Meadows to Glen Aulin High Sierra Camp</td>\n",
       "      <td>www.alltrails.com/trail/us/california/tuolumne...</td>\n",
       "      <td>5.0</td>\n",
       "      <td>2020-10-22</td>\n",
       "      <td>NaN</td>\n",
       "      <td>4.5</td>\n",
       "      <td>moderate</td>\n",
       "      <td>12.1 mi</td>\n",
       "      <td>1200 ft</td>\n",
       "      <td>Out &amp; back</td>\n",
       "      <td>Yosemite National Park</td>\n",
       "      <td>['Backpacking', 'Camping', 'Fishing', 'Hiking'...</td>\n",
       "      <td>Tuolumne Meadows to Glen Aulin High Sierra Cam...</td>\n",
       "    </tr>\n",
       "    <tr>\n",
       "      <th>1</th>\n",
       "      <td>Gretchen Cremo</td>\n",
       "      <td>Tuolumne Meadows to Glen Aulin High Sierra Camp</td>\n",
       "      <td>www.alltrails.com/trail/us/california/tuolumne...</td>\n",
       "      <td>5.0</td>\n",
       "      <td>2020-10-20</td>\n",
       "      <td>Great hike, really enjoyed the Tuolumne River,...</td>\n",
       "      <td>4.5</td>\n",
       "      <td>moderate</td>\n",
       "      <td>12.1 mi</td>\n",
       "      <td>1200 ft</td>\n",
       "      <td>Out &amp; back</td>\n",
       "      <td>Yosemite National Park</td>\n",
       "      <td>['Backpacking', 'Camping', 'Fishing', 'Hiking'...</td>\n",
       "      <td>Tuolumne Meadows to Glen Aulin High Sierra Cam...</td>\n",
       "    </tr>\n",
       "    <tr>\n",
       "      <th>2</th>\n",
       "      <td>Yemia Hashimoto</td>\n",
       "      <td>Tuolumne Meadows to Glen Aulin High Sierra Camp</td>\n",
       "      <td>www.alltrails.com/trail/us/california/tuolumne...</td>\n",
       "      <td>5.0</td>\n",
       "      <td>2020-10-09</td>\n",
       "      <td>Oct9 hiked in, Oct 11 hiked out. We were a gro...</td>\n",
       "      <td>4.5</td>\n",
       "      <td>moderate</td>\n",
       "      <td>12.1 mi</td>\n",
       "      <td>1200 ft</td>\n",
       "      <td>Out &amp; back</td>\n",
       "      <td>Yosemite National Park</td>\n",
       "      <td>['Backpacking', 'Camping', 'Fishing', 'Hiking'...</td>\n",
       "      <td>Tuolumne Meadows to Glen Aulin High Sierra Cam...</td>\n",
       "    </tr>\n",
       "    <tr>\n",
       "      <th>3</th>\n",
       "      <td>Jose Ballesteros</td>\n",
       "      <td>Tuolumne Meadows to Glen Aulin High Sierra Camp</td>\n",
       "      <td>www.alltrails.com/trail/us/california/tuolumne...</td>\n",
       "      <td>5.0</td>\n",
       "      <td>2020-10-09</td>\n",
       "      <td>absolutely  worth every step. didnt see anyone...</td>\n",
       "      <td>4.5</td>\n",
       "      <td>moderate</td>\n",
       "      <td>12.1 mi</td>\n",
       "      <td>1200 ft</td>\n",
       "      <td>Out &amp; back</td>\n",
       "      <td>Yosemite National Park</td>\n",
       "      <td>['Backpacking', 'Camping', 'Fishing', 'Hiking'...</td>\n",
       "      <td>Tuolumne Meadows to Glen Aulin High Sierra Cam...</td>\n",
       "    </tr>\n",
       "    <tr>\n",
       "      <th>4</th>\n",
       "      <td>Briana Wharton</td>\n",
       "      <td>Tuolumne Meadows to Glen Aulin High Sierra Camp</td>\n",
       "      <td>www.alltrails.com/trail/us/california/tuolumne...</td>\n",
       "      <td>5.0</td>\n",
       "      <td>2020-08-29</td>\n",
       "      <td>Awesome trail that was partially shaded throug...</td>\n",
       "      <td>4.5</td>\n",
       "      <td>moderate</td>\n",
       "      <td>12.1 mi</td>\n",
       "      <td>1200 ft</td>\n",
       "      <td>Out &amp; back</td>\n",
       "      <td>Yosemite National Park</td>\n",
       "      <td>['Backpacking', 'Camping', 'Fishing', 'Hiking'...</td>\n",
       "      <td>Tuolumne Meadows to Glen Aulin High Sierra Cam...</td>\n",
       "    </tr>\n",
       "  </tbody>\n",
       "</table>\n",
       "</div>"
      ],
      "text/plain": [
       "          user_name                                            trail  \\\n",
       "0     Melody Romero  Tuolumne Meadows to Glen Aulin High Sierra Camp   \n",
       "1    Gretchen Cremo  Tuolumne Meadows to Glen Aulin High Sierra Camp   \n",
       "2   Yemia Hashimoto  Tuolumne Meadows to Glen Aulin High Sierra Camp   \n",
       "3  Jose Ballesteros  Tuolumne Meadows to Glen Aulin High Sierra Camp   \n",
       "4    Briana Wharton  Tuolumne Meadows to Glen Aulin High Sierra Camp   \n",
       "\n",
       "                                           trail_url  stars       date  \\\n",
       "0  www.alltrails.com/trail/us/california/tuolumne...    5.0 2020-10-22   \n",
       "1  www.alltrails.com/trail/us/california/tuolumne...    5.0 2020-10-20   \n",
       "2  www.alltrails.com/trail/us/california/tuolumne...    5.0 2020-10-09   \n",
       "3  www.alltrails.com/trail/us/california/tuolumne...    5.0 2020-10-09   \n",
       "4  www.alltrails.com/trail/us/california/tuolumne...    5.0 2020-08-29   \n",
       "\n",
       "                                         review_text  trail_avg_star  \\\n",
       "0                                                NaN             4.5   \n",
       "1  Great hike, really enjoyed the Tuolumne River,...             4.5   \n",
       "2  Oct9 hiked in, Oct 11 hiked out. We were a gro...             4.5   \n",
       "3  absolutely  worth every step. didnt see anyone...             4.5   \n",
       "4  Awesome trail that was partially shaded throug...             4.5   \n",
       "\n",
       "  difficulty distance elevation  route_type                location  \\\n",
       "0   moderate  12.1 mi   1200 ft  Out & back  Yosemite National Park   \n",
       "1   moderate  12.1 mi   1200 ft  Out & back  Yosemite National Park   \n",
       "2   moderate  12.1 mi   1200 ft  Out & back  Yosemite National Park   \n",
       "3   moderate  12.1 mi   1200 ft  Out & back  Yosemite National Park   \n",
       "4   moderate  12.1 mi   1200 ft  Out & back  Yosemite National Park   \n",
       "\n",
       "                                            tag_list  \\\n",
       "0  ['Backpacking', 'Camping', 'Fishing', 'Hiking'...   \n",
       "1  ['Backpacking', 'Camping', 'Fishing', 'Hiking'...   \n",
       "2  ['Backpacking', 'Camping', 'Fishing', 'Hiking'...   \n",
       "3  ['Backpacking', 'Camping', 'Fishing', 'Hiking'...   \n",
       "4  ['Backpacking', 'Camping', 'Fishing', 'Hiking'...   \n",
       "\n",
       "                                   short_description  \n",
       "0  Tuolumne Meadows to Glen Aulin High Sierra Cam...  \n",
       "1  Tuolumne Meadows to Glen Aulin High Sierra Cam...  \n",
       "2  Tuolumne Meadows to Glen Aulin High Sierra Cam...  \n",
       "3  Tuolumne Meadows to Glen Aulin High Sierra Cam...  \n",
       "4  Tuolumne Meadows to Glen Aulin High Sierra Cam...  "
      ]
     },
     "execution_count": 57,
     "metadata": {},
     "output_type": "execute_result"
    }
   ],
   "source": [
    "df_CA.head()"
   ]
  },
  {
   "cell_type": "markdown",
   "metadata": {},
   "source": [
    "## Unique usernames"
   ]
  },
  {
   "cell_type": "code",
   "execution_count": 59,
   "metadata": {},
   "outputs": [],
   "source": [
    "df_CA.groupby('user_name').count().sort_values('stars', ascending=False)\n",
    "df_CA = df_CA[df_CA['user_name']!= 'AllTrails User']\n",
    "df_CA = df_CA[df_CA['user_name']!= 'AllTrails User ']"
   ]
  },
  {
   "cell_type": "markdown",
   "metadata": {},
   "source": [
    "## For user & trail combination that was reviewed more than once, we will take average value of the star rating"
   ]
  },
  {
   "cell_type": "code",
   "execution_count": 61,
   "metadata": {},
   "outputs": [
    {
     "name": "stderr",
     "output_type": "stream",
     "text": [
      "<ipython-input-61-813a9cfe4ccf>:2: SettingWithCopyWarning: \n",
      "A value is trying to be set on a copy of a slice from a DataFrame.\n",
      "Try using .loc[row_indexer,col_indexer] = value instead\n",
      "\n",
      "See the caveats in the documentation: https://pandas.pydata.org/pandas-docs/stable/user_guide/indexing.html#returning-a-view-versus-a-copy\n",
      "  df['user_id'] = df['user_name'].astype('category').cat.codes\n"
     ]
    }
   ],
   "source": [
    "df = df_CA.drop_duplicates(subset=['user_name', 'trail_url'], keep='first', ignore_index=True)\n",
    "df['user_id'] = df['user_name'].astype('category').cat.codes\n",
    "df.to_csv('csv2/combined/CA_review_cleaned.csv', index=False)"
   ]
  },
  {
   "cell_type": "code",
   "execution_count": 62,
   "metadata": {},
   "outputs": [
    {
     "data": {
      "text/html": [
       "<div>\n",
       "<style scoped>\n",
       "    .dataframe tbody tr th:only-of-type {\n",
       "        vertical-align: middle;\n",
       "    }\n",
       "\n",
       "    .dataframe tbody tr th {\n",
       "        vertical-align: top;\n",
       "    }\n",
       "\n",
       "    .dataframe thead th {\n",
       "        text-align: right;\n",
       "    }\n",
       "</style>\n",
       "<table border=\"1\" class=\"dataframe\">\n",
       "  <thead>\n",
       "    <tr style=\"text-align: right;\">\n",
       "      <th></th>\n",
       "      <th>user_name</th>\n",
       "      <th>trail</th>\n",
       "      <th>trail_url</th>\n",
       "      <th>stars</th>\n",
       "      <th>date</th>\n",
       "      <th>review_text</th>\n",
       "      <th>trail_avg_star</th>\n",
       "      <th>difficulty</th>\n",
       "      <th>distance</th>\n",
       "      <th>elevation</th>\n",
       "      <th>route_type</th>\n",
       "      <th>location</th>\n",
       "      <th>tag_list</th>\n",
       "      <th>short_description</th>\n",
       "      <th>user_id</th>\n",
       "    </tr>\n",
       "  </thead>\n",
       "  <tbody>\n",
       "    <tr>\n",
       "      <th>0</th>\n",
       "      <td>Melody Romero</td>\n",
       "      <td>Tuolumne Meadows to Glen Aulin High Sierra Camp</td>\n",
       "      <td>www.alltrails.com/trail/us/california/tuolumne...</td>\n",
       "      <td>5.0</td>\n",
       "      <td>2020-10-22</td>\n",
       "      <td>NaN</td>\n",
       "      <td>4.5</td>\n",
       "      <td>moderate</td>\n",
       "      <td>12.1 mi</td>\n",
       "      <td>1200 ft</td>\n",
       "      <td>Out &amp; back</td>\n",
       "      <td>Yosemite National Park</td>\n",
       "      <td>['Backpacking', 'Camping', 'Fishing', 'Hiking'...</td>\n",
       "      <td>Tuolumne Meadows to Glen Aulin High Sierra Cam...</td>\n",
       "      <td>126924</td>\n",
       "    </tr>\n",
       "    <tr>\n",
       "      <th>1</th>\n",
       "      <td>Gretchen Cremo</td>\n",
       "      <td>Tuolumne Meadows to Glen Aulin High Sierra Camp</td>\n",
       "      <td>www.alltrails.com/trail/us/california/tuolumne...</td>\n",
       "      <td>5.0</td>\n",
       "      <td>2020-10-20</td>\n",
       "      <td>Great hike, really enjoyed the Tuolumne River,...</td>\n",
       "      <td>4.5</td>\n",
       "      <td>moderate</td>\n",
       "      <td>12.1 mi</td>\n",
       "      <td>1200 ft</td>\n",
       "      <td>Out &amp; back</td>\n",
       "      <td>Yosemite National Park</td>\n",
       "      <td>['Backpacking', 'Camping', 'Fishing', 'Hiking'...</td>\n",
       "      <td>Tuolumne Meadows to Glen Aulin High Sierra Cam...</td>\n",
       "      <td>66692</td>\n",
       "    </tr>\n",
       "    <tr>\n",
       "      <th>2</th>\n",
       "      <td>Yemia Hashimoto</td>\n",
       "      <td>Tuolumne Meadows to Glen Aulin High Sierra Camp</td>\n",
       "      <td>www.alltrails.com/trail/us/california/tuolumne...</td>\n",
       "      <td>5.0</td>\n",
       "      <td>2020-10-09</td>\n",
       "      <td>Oct9 hiked in, Oct 11 hiked out. We were a gro...</td>\n",
       "      <td>4.5</td>\n",
       "      <td>moderate</td>\n",
       "      <td>12.1 mi</td>\n",
       "      <td>1200 ft</td>\n",
       "      <td>Out &amp; back</td>\n",
       "      <td>Yosemite National Park</td>\n",
       "      <td>['Backpacking', 'Camping', 'Fishing', 'Hiking'...</td>\n",
       "      <td>Tuolumne Meadows to Glen Aulin High Sierra Cam...</td>\n",
       "      <td>186446</td>\n",
       "    </tr>\n",
       "    <tr>\n",
       "      <th>3</th>\n",
       "      <td>Jose Ballesteros</td>\n",
       "      <td>Tuolumne Meadows to Glen Aulin High Sierra Camp</td>\n",
       "      <td>www.alltrails.com/trail/us/california/tuolumne...</td>\n",
       "      <td>5.0</td>\n",
       "      <td>2020-10-09</td>\n",
       "      <td>absolutely  worth every step. didnt see anyone...</td>\n",
       "      <td>4.5</td>\n",
       "      <td>moderate</td>\n",
       "      <td>12.1 mi</td>\n",
       "      <td>1200 ft</td>\n",
       "      <td>Out &amp; back</td>\n",
       "      <td>Yosemite National Park</td>\n",
       "      <td>['Backpacking', 'Camping', 'Fishing', 'Hiking'...</td>\n",
       "      <td>Tuolumne Meadows to Glen Aulin High Sierra Cam...</td>\n",
       "      <td>91120</td>\n",
       "    </tr>\n",
       "    <tr>\n",
       "      <th>4</th>\n",
       "      <td>Briana Wharton</td>\n",
       "      <td>Tuolumne Meadows to Glen Aulin High Sierra Camp</td>\n",
       "      <td>www.alltrails.com/trail/us/california/tuolumne...</td>\n",
       "      <td>5.0</td>\n",
       "      <td>2020-08-29</td>\n",
       "      <td>Awesome trail that was partially shaded throug...</td>\n",
       "      <td>4.5</td>\n",
       "      <td>moderate</td>\n",
       "      <td>12.1 mi</td>\n",
       "      <td>1200 ft</td>\n",
       "      <td>Out &amp; back</td>\n",
       "      <td>Yosemite National Park</td>\n",
       "      <td>['Backpacking', 'Camping', 'Fishing', 'Hiking'...</td>\n",
       "      <td>Tuolumne Meadows to Glen Aulin High Sierra Cam...</td>\n",
       "      <td>25826</td>\n",
       "    </tr>\n",
       "  </tbody>\n",
       "</table>\n",
       "</div>"
      ],
      "text/plain": [
       "          user_name                                            trail  \\\n",
       "0     Melody Romero  Tuolumne Meadows to Glen Aulin High Sierra Camp   \n",
       "1    Gretchen Cremo  Tuolumne Meadows to Glen Aulin High Sierra Camp   \n",
       "2   Yemia Hashimoto  Tuolumne Meadows to Glen Aulin High Sierra Camp   \n",
       "3  Jose Ballesteros  Tuolumne Meadows to Glen Aulin High Sierra Camp   \n",
       "4    Briana Wharton  Tuolumne Meadows to Glen Aulin High Sierra Camp   \n",
       "\n",
       "                                           trail_url  stars       date  \\\n",
       "0  www.alltrails.com/trail/us/california/tuolumne...    5.0 2020-10-22   \n",
       "1  www.alltrails.com/trail/us/california/tuolumne...    5.0 2020-10-20   \n",
       "2  www.alltrails.com/trail/us/california/tuolumne...    5.0 2020-10-09   \n",
       "3  www.alltrails.com/trail/us/california/tuolumne...    5.0 2020-10-09   \n",
       "4  www.alltrails.com/trail/us/california/tuolumne...    5.0 2020-08-29   \n",
       "\n",
       "                                         review_text  trail_avg_star  \\\n",
       "0                                                NaN             4.5   \n",
       "1  Great hike, really enjoyed the Tuolumne River,...             4.5   \n",
       "2  Oct9 hiked in, Oct 11 hiked out. We were a gro...             4.5   \n",
       "3  absolutely  worth every step. didnt see anyone...             4.5   \n",
       "4  Awesome trail that was partially shaded throug...             4.5   \n",
       "\n",
       "  difficulty distance elevation  route_type                location  \\\n",
       "0   moderate  12.1 mi   1200 ft  Out & back  Yosemite National Park   \n",
       "1   moderate  12.1 mi   1200 ft  Out & back  Yosemite National Park   \n",
       "2   moderate  12.1 mi   1200 ft  Out & back  Yosemite National Park   \n",
       "3   moderate  12.1 mi   1200 ft  Out & back  Yosemite National Park   \n",
       "4   moderate  12.1 mi   1200 ft  Out & back  Yosemite National Park   \n",
       "\n",
       "                                            tag_list  \\\n",
       "0  ['Backpacking', 'Camping', 'Fishing', 'Hiking'...   \n",
       "1  ['Backpacking', 'Camping', 'Fishing', 'Hiking'...   \n",
       "2  ['Backpacking', 'Camping', 'Fishing', 'Hiking'...   \n",
       "3  ['Backpacking', 'Camping', 'Fishing', 'Hiking'...   \n",
       "4  ['Backpacking', 'Camping', 'Fishing', 'Hiking'...   \n",
       "\n",
       "                                   short_description  user_id  \n",
       "0  Tuolumne Meadows to Glen Aulin High Sierra Cam...   126924  \n",
       "1  Tuolumne Meadows to Glen Aulin High Sierra Cam...    66692  \n",
       "2  Tuolumne Meadows to Glen Aulin High Sierra Cam...   186446  \n",
       "3  Tuolumne Meadows to Glen Aulin High Sierra Cam...    91120  \n",
       "4  Tuolumne Meadows to Glen Aulin High Sierra Cam...    25826  "
      ]
     },
     "execution_count": 62,
     "metadata": {},
     "output_type": "execute_result"
    }
   ],
   "source": [
    "df.head()"
   ]
  },
  {
   "cell_type": "code",
   "execution_count": null,
   "metadata": {},
   "outputs": [],
   "source": []
  }
 ],
 "metadata": {
  "kernelspec": {
   "display_name": "Python 3",
   "language": "python",
   "name": "python3"
  },
  "language_info": {
   "codemirror_mode": {
    "name": "ipython",
    "version": 3
   },
   "file_extension": ".py",
   "mimetype": "text/x-python",
   "name": "python",
   "nbconvert_exporter": "python",
   "pygments_lexer": "ipython3",
   "version": "3.8.3"
  }
 },
 "nbformat": 4,
 "nbformat_minor": 4
}
