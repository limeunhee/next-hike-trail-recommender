{
 "cells": [
  {
   "cell_type": "markdown",
   "metadata": {},
   "source": [
    "# Importing libaries"
   ]
  },
  {
   "cell_type": "code",
   "execution_count": 3,
   "metadata": {},
   "outputs": [],
   "source": [
    "import glob\n",
    "import os \n",
    "import pandas as pd\n",
    "import numpy as np\n",
    "import matplotlib.pyplot as plt\n",
    "plt.rcParams['font.family']=\"Avenir\"\n",
    "import seaborn as sns\n",
    "from collections import Counter"
   ]
  },
  {
   "cell_type": "markdown",
   "metadata": {},
   "source": [
    "# Defining functions to be used in this notebook"
   ]
  },
  {
   "cell_type": "code",
   "execution_count": 4,
   "metadata": {},
   "outputs": [],
   "source": [
    "def convert_to_mins(string):\n",
    "    if isinstance(string, float):\n",
    "        return None\n",
    "    a=string.split(' ')\n",
    "    \n",
    "    if len(a)==4:\n",
    "        duration_in_min = int(a[0])*60 + int(a[2])\n",
    "        \n",
    "    elif (len(a)==2) and (a[1]=='m'):\n",
    "        duration_in_min = int(a[0])\n",
    "        \n",
    "    elif (len(a)==2) and (a[1]=='h'):\n",
    "        duration_in_min = int(a[0])*60\n",
    "        \n",
    "    elif (len(a)==1) and (a[0]=='Multi-day') :\n",
    "        duration_in_min = 1500\n",
    "        \n",
    "    else:\n",
    "        duration_in_min = None\n",
    "        \n",
    "    return duration_in_min"
   ]
  },
  {
   "cell_type": "code",
   "execution_count": 5,
   "metadata": {},
   "outputs": [],
   "source": [
    "def convert_to_miles(string):\n",
    "    if isinstance(string, float):\n",
    "        return None\n",
    "    \n",
    "    a=string.split(' ')\n",
    "    if (len(a)==2) and (a[1]=='mi'):\n",
    "        distance = float(a[0])\n",
    "    else:\n",
    "        distance = None\n",
    "    return distance"
   ]
  },
  {
   "cell_type": "code",
   "execution_count": 6,
   "metadata": {},
   "outputs": [],
   "source": [
    "def number_of_tags(lst):\n",
    "    return len(lst.split(','))"
   ]
  },
  {
   "cell_type": "code",
   "execution_count": 7,
   "metadata": {},
   "outputs": [],
   "source": [
    "def number_of_words(string):\n",
    "    return (len(string))"
   ]
  },
  {
   "cell_type": "code",
   "execution_count": 8,
   "metadata": {},
   "outputs": [],
   "source": [
    "def difficulty(string):\n",
    "    if string =='easy':\n",
    "        return 1\n",
    "    elif string == 'moderate':\n",
    "        return 2\n",
    "    elif string=='hard':\n",
    "        return 3\n",
    "    else:\n",
    "        return -1"
   ]
  },
  {
   "cell_type": "code",
   "execution_count": 9,
   "metadata": {},
   "outputs": [],
   "source": [
    "def is_there(string):\n",
    "    if NaN:\n",
    "        return 0\n",
    "    else:\n",
    "        return 1"
   ]
  },
  {
   "cell_type": "code",
   "execution_count": 10,
   "metadata": {},
   "outputs": [],
   "source": [
    "def code_generator(name):\n",
    "    return us_state_abbrev[name.replace('-', ' ').title()]"
   ]
  },
  {
   "cell_type": "code",
   "execution_count": 11,
   "metadata": {},
   "outputs": [],
   "source": [
    "def gen_tag_list(string):\n",
    "    return eval(string)"
   ]
  },
  {
   "cell_type": "code",
   "execution_count": 12,
   "metadata": {},
   "outputs": [],
   "source": [
    "us_state_abbrev = {\n",
    "'Alabama': 'AL',\n",
    "'Alaska': 'AK',\n",
    "'American Samoa': 'AS',\n",
    "'Arizona': 'AZ',\n",
    "'Arkansas': 'AR',\n",
    "'California': 'CA',\n",
    "'Colorado': 'CO',\n",
    "'Connecticut': 'CT',\n",
    "'Delaware': 'DE',\n",
    "'District of Columbia': 'DC',\n",
    "'Florida': 'FL',\n",
    "'Georgia': 'GA',\n",
    "'Guam': 'GU',\n",
    "'Hawaii': 'HI',\n",
    "'Idaho': 'ID',\n",
    "'Illinois': 'IL',\n",
    "'Indiana': 'IN',\n",
    "'Iowa': 'IA',\n",
    "'Kansas': 'KS',\n",
    "'Kentucky': 'KY',\n",
    "'Louisiana': 'LA',\n",
    "'Maine': 'ME',\n",
    "'Maryland': 'MD',\n",
    "'Massachusetts': 'MA',\n",
    "'Michigan': 'MI',\n",
    "'Minnesota': 'MN',\n",
    "'Mississippi': 'MS',\n",
    "'Missouri': 'MO',\n",
    "'Montana': 'MT',\n",
    "'Nebraska': 'NE',\n",
    "'Nevada': 'NV',\n",
    "'New Hampshire': 'NH',\n",
    "'New Jersey': 'NJ',\n",
    "'New Mexico': 'NM',\n",
    "'New York': 'NY',\n",
    "'North Carolina': 'NC',\n",
    "'North Dakota': 'ND',\n",
    "'Northern Mariana Islands':'MP',\n",
    "'Ohio': 'OH',\n",
    "'Oklahoma': 'OK',\n",
    "'Oregon': 'OR',\n",
    "'Pennsylvania': 'PA',\n",
    "'Puerto Rico': 'PR',\n",
    "'Rhode Island': 'RI',\n",
    "'South Carolina': 'SC',\n",
    "'South Dakota': 'SD',\n",
    "'Tennessee': 'TN',\n",
    "'Texas': 'TX',\n",
    "'Utah': 'UT',\n",
    "'Vermont': 'VT',\n",
    "'Virgin Islands': 'VI',\n",
    "'Virginia': 'VA',\n",
    "'Washington': 'WA',\n",
    "'West Virginia': 'WV',\n",
    "'Wisconsin': 'WI',\n",
    "'Wyoming': 'WY'\n",
    "}"
   ]
  },
  {
   "cell_type": "markdown",
   "metadata": {},
   "source": [
    "# Merging two csv files fore each state"
   ]
  },
  {
   "cell_type": "markdown",
   "metadata": {},
   "source": [
    "Trail information for each state is saved in 2 csv files. We will first combine the 2 csv files:"
   ]
  },
  {
   "cell_type": "code",
   "execution_count": 25,
   "metadata": {},
   "outputs": [],
   "source": [
    "path1 ='/Users/eunheelim/Capstone1/data4/*.csv'\n",
    "path2 = '/Users/eunheelim/Capstone1/data5/*.csv'\n",
    "\n",
    "filelist1=sorted(glob.iglob(path1))\n",
    "filelist2=sorted(glob.iglob(path2))\n",
    "\n",
    "df = pd.DataFrame() \n",
    "\n",
    "for file in filelist1:\n",
    "    state = file[33:-4]\n",
    "    file2 =  '/Users/eunheelim/Capstone1/data5/' + state + '2.csv'\n",
    "    \n",
    "    df1 = pd.read_csv(file,\n",
    "                  header=None,\n",
    "                  names=['duration', 'distance'])\n",
    "\n",
    "    df2 = df2 = pd.read_csv(file2,\n",
    "                 index_col='Unnamed: 0')\n",
    "    \n",
    "    df0= df2.join(df1)\n",
    "    df0['state'] = state\n",
    "    \n",
    "    df= df.append(df0)"
   ]
  },
  {
   "cell_type": "code",
   "execution_count": 26,
   "metadata": {},
   "outputs": [],
   "source": [
    "df[\"State\"] = df['state'].apply(code_generator)"
   ]
  },
  {
   "cell_type": "markdown",
   "metadata": {},
   "source": [
    "# Data engineering on the data frame"
   ]
  },
  {
   "cell_type": "code",
   "execution_count": 28,
   "metadata": {},
   "outputs": [],
   "source": [
    "df['difficulty_rating'] = df['difficulty'].apply(difficulty)\n",
    "df['short'] = df['short_description'].apply(number_of_words)\n",
    "df['long'] = np.where(df['long_description'].isna(), 0, 1)\n",
    "df['n_tags'] = df['tag_list'].apply(number_of_tags)\n",
    "\n",
    "df['distance_mi']= df['distance'].apply(convert_to_miles)\n",
    "df['duration_min']= df['duration'].apply(convert_to_mins)\n",
    "\n",
    "df= df.drop(columns={'distance', 'duration','best_rating','worst_rating','difficulty'})\n",
    "\n",
    "# Changing column names\n",
    "df= df.rename(columns={\"average_rating\": \"stars\", \"difficulty_rating\":\"difficulty\", \"distance_mi\":'distance',\"duration_min\":\"duration\"})"
   ]
  },
  {
   "cell_type": "code",
   "execution_count": 29,
   "metadata": {},
   "outputs": [
    {
     "data": {
      "text/html": [
       "<div>\n",
       "<style scoped>\n",
       "    .dataframe tbody tr th:only-of-type {\n",
       "        vertical-align: middle;\n",
       "    }\n",
       "\n",
       "    .dataframe tbody tr th {\n",
       "        vertical-align: top;\n",
       "    }\n",
       "\n",
       "    .dataframe thead th {\n",
       "        text-align: right;\n",
       "    }\n",
       "</style>\n",
       "<table border=\"1\" class=\"dataframe\">\n",
       "  <thead>\n",
       "    <tr style=\"text-align: right;\">\n",
       "      <th></th>\n",
       "      <th>name</th>\n",
       "      <th>stars</th>\n",
       "      <th>review_count</th>\n",
       "      <th>location</th>\n",
       "      <th>elevation</th>\n",
       "      <th>route_type</th>\n",
       "      <th>short_description</th>\n",
       "      <th>long_description</th>\n",
       "      <th>tag_list</th>\n",
       "      <th>n_photos</th>\n",
       "      <th>n_recordings</th>\n",
       "      <th>n_completed</th>\n",
       "      <th>state</th>\n",
       "      <th>State</th>\n",
       "      <th>difficulty</th>\n",
       "      <th>short</th>\n",
       "      <th>long</th>\n",
       "      <th>n_tags</th>\n",
       "      <th>distance</th>\n",
       "      <th>duration</th>\n",
       "    </tr>\n",
       "  </thead>\n",
       "  <tbody>\n",
       "    <tr>\n",
       "      <th>0</th>\n",
       "      <td>Walls of Jericho Trail</td>\n",
       "      <td>4.5</td>\n",
       "      <td>908</td>\n",
       "      <td>Scottsboro, Alabama</td>\n",
       "      <td>1699.0</td>\n",
       "      <td>Out &amp; Back</td>\n",
       "      <td>Walls of Jericho Trail is a 9 mile heavily tra...</td>\n",
       "      <td>NaN</td>\n",
       "      <td>['Dog friendly', 'Camping', 'Hiking', 'Horseba...</td>\n",
       "      <td>1507</td>\n",
       "      <td>599</td>\n",
       "      <td>1622</td>\n",
       "      <td>alabama</td>\n",
       "      <td>AL</td>\n",
       "      <td>3</td>\n",
       "      <td>296</td>\n",
       "      <td>0</td>\n",
       "      <td>17</td>\n",
       "      <td>9.0</td>\n",
       "      <td>277.0</td>\n",
       "    </tr>\n",
       "    <tr>\n",
       "      <th>1</th>\n",
       "      <td>Cave Creek Trail from Cheaha Trailhead</td>\n",
       "      <td>4.5</td>\n",
       "      <td>486</td>\n",
       "      <td>Cheaha State Park</td>\n",
       "      <td>1105.0</td>\n",
       "      <td>Loop</td>\n",
       "      <td>Cave Creek Trail from Cheaha Trailhead is a 6....</td>\n",
       "      <td>Offline map recommended. Users have reported t...</td>\n",
       "      <td>['Dogs on leash', 'Backpacking', 'Camping', 'H...</td>\n",
       "      <td>1133</td>\n",
       "      <td>471</td>\n",
       "      <td>892</td>\n",
       "      <td>alabama</td>\n",
       "      <td>AL</td>\n",
       "      <td>2</td>\n",
       "      <td>325</td>\n",
       "      <td>1</td>\n",
       "      <td>10</td>\n",
       "      <td>6.7</td>\n",
       "      <td>207.0</td>\n",
       "    </tr>\n",
       "    <tr>\n",
       "      <th>2</th>\n",
       "      <td>Sougahoagdee Falls</td>\n",
       "      <td>4.5</td>\n",
       "      <td>372</td>\n",
       "      <td>William B Bankhead National Forest</td>\n",
       "      <td>436.0</td>\n",
       "      <td>Out &amp; Back</td>\n",
       "      <td>Sougahoagdee Falls is a 4 mile heavily traffic...</td>\n",
       "      <td>NaN</td>\n",
       "      <td>['Dogs on leash', 'Kid friendly', 'Hiking', 'N...</td>\n",
       "      <td>395</td>\n",
       "      <td>255</td>\n",
       "      <td>506</td>\n",
       "      <td>alabama</td>\n",
       "      <td>AL</td>\n",
       "      <td>1</td>\n",
       "      <td>279</td>\n",
       "      <td>0</td>\n",
       "      <td>10</td>\n",
       "      <td>4.0</td>\n",
       "      <td>102.0</td>\n",
       "    </tr>\n",
       "    <tr>\n",
       "      <th>3</th>\n",
       "      <td>Cane Creek Canyon Nature Preserve</td>\n",
       "      <td>5.0</td>\n",
       "      <td>236</td>\n",
       "      <td>Cane Creek Canyon Nature Preserve</td>\n",
       "      <td>974.0</td>\n",
       "      <td>Loop</td>\n",
       "      <td>Cane Creek Canyon Nature Preserve is a 8.2 mil...</td>\n",
       "      <td>Privately owned scenic natural area open to th...</td>\n",
       "      <td>['Dog friendly', 'Camping', 'Hiking', 'Nature ...</td>\n",
       "      <td>582</td>\n",
       "      <td>163</td>\n",
       "      <td>372</td>\n",
       "      <td>alabama</td>\n",
       "      <td>AL</td>\n",
       "      <td>2</td>\n",
       "      <td>291</td>\n",
       "      <td>1</td>\n",
       "      <td>14</td>\n",
       "      <td>8.2</td>\n",
       "      <td>238.0</td>\n",
       "    </tr>\n",
       "    <tr>\n",
       "      <th>4</th>\n",
       "      <td>Chinnabee Silent Trail</td>\n",
       "      <td>4.5</td>\n",
       "      <td>308</td>\n",
       "      <td>Cheaha Wilderness</td>\n",
       "      <td>892.0</td>\n",
       "      <td>Out &amp; Back</td>\n",
       "      <td>Chinnabee Silent Trail is a 7.3 mile heavily t...</td>\n",
       "      <td>Note: Users have reported that the trailhead f...</td>\n",
       "      <td>['Dogs on leash', 'Backpacking', 'Camping', 'F...</td>\n",
       "      <td>491</td>\n",
       "      <td>247</td>\n",
       "      <td>690</td>\n",
       "      <td>alabama</td>\n",
       "      <td>AL</td>\n",
       "      <td>2</td>\n",
       "      <td>307</td>\n",
       "      <td>1</td>\n",
       "      <td>19</td>\n",
       "      <td>7.3</td>\n",
       "      <td>212.0</td>\n",
       "    </tr>\n",
       "  </tbody>\n",
       "</table>\n",
       "</div>"
      ],
      "text/plain": [
       "                                     name  stars  review_count  \\\n",
       "0                  Walls of Jericho Trail    4.5           908   \n",
       "1  Cave Creek Trail from Cheaha Trailhead    4.5           486   \n",
       "2                      Sougahoagdee Falls    4.5           372   \n",
       "3       Cane Creek Canyon Nature Preserve    5.0           236   \n",
       "4                  Chinnabee Silent Trail    4.5           308   \n",
       "\n",
       "                             location  elevation  route_type  \\\n",
       "0                 Scottsboro, Alabama     1699.0  Out & Back   \n",
       "1                   Cheaha State Park     1105.0        Loop   \n",
       "2  William B Bankhead National Forest      436.0  Out & Back   \n",
       "3   Cane Creek Canyon Nature Preserve      974.0        Loop   \n",
       "4                   Cheaha Wilderness      892.0  Out & Back   \n",
       "\n",
       "                                   short_description  \\\n",
       "0  Walls of Jericho Trail is a 9 mile heavily tra...   \n",
       "1  Cave Creek Trail from Cheaha Trailhead is a 6....   \n",
       "2  Sougahoagdee Falls is a 4 mile heavily traffic...   \n",
       "3  Cane Creek Canyon Nature Preserve is a 8.2 mil...   \n",
       "4  Chinnabee Silent Trail is a 7.3 mile heavily t...   \n",
       "\n",
       "                                    long_description  \\\n",
       "0                                                NaN   \n",
       "1  Offline map recommended. Users have reported t...   \n",
       "2                                                NaN   \n",
       "3  Privately owned scenic natural area open to th...   \n",
       "4  Note: Users have reported that the trailhead f...   \n",
       "\n",
       "                                            tag_list  n_photos  n_recordings  \\\n",
       "0  ['Dog friendly', 'Camping', 'Hiking', 'Horseba...      1507           599   \n",
       "1  ['Dogs on leash', 'Backpacking', 'Camping', 'H...      1133           471   \n",
       "2  ['Dogs on leash', 'Kid friendly', 'Hiking', 'N...       395           255   \n",
       "3  ['Dog friendly', 'Camping', 'Hiking', 'Nature ...       582           163   \n",
       "4  ['Dogs on leash', 'Backpacking', 'Camping', 'F...       491           247   \n",
       "\n",
       "   n_completed    state State  difficulty  short  long  n_tags  distance  \\\n",
       "0         1622  alabama    AL           3    296     0      17       9.0   \n",
       "1          892  alabama    AL           2    325     1      10       6.7   \n",
       "2          506  alabama    AL           1    279     0      10       4.0   \n",
       "3          372  alabama    AL           2    291     1      14       8.2   \n",
       "4          690  alabama    AL           2    307     1      19       7.3   \n",
       "\n",
       "   duration  \n",
       "0     277.0  \n",
       "1     207.0  \n",
       "2     102.0  \n",
       "3     238.0  \n",
       "4     212.0  "
      ]
     },
     "execution_count": 29,
     "metadata": {},
     "output_type": "execute_result"
    }
   ],
   "source": [
    "df.head()"
   ]
  },
  {
   "cell_type": "code",
   "execution_count": 31,
   "metadata": {},
   "outputs": [],
   "source": [
    "df.to_csv('csv/combined/all_state_trails.csv', index=False)"
   ]
  },
  {
   "cell_type": "code",
   "execution_count": 32,
   "metadata": {},
   "outputs": [],
   "source": [
    "CA = df[df['State']=='CA']"
   ]
  },
  {
   "cell_type": "code",
   "execution_count": 35,
   "metadata": {},
   "outputs": [],
   "source": [
    "CA.to_csv('csv/combined/CA_trails.csv', index=False)"
   ]
  },
  {
   "cell_type": "code",
   "execution_count": 39,
   "metadata": {},
   "outputs": [],
   "source": [
    "def save_state_trail_CSV(state):\n",
    "    result = df[df['State']==state]\n",
    "    result.to_csv(f'csv/combined/{state}_trails.csv', index = False)\n",
    "    print(result.shape)"
   ]
  },
  {
   "cell_type": "code",
   "execution_count": 41,
   "metadata": {},
   "outputs": [
    {
     "name": "stdout",
     "output_type": "stream",
     "text": [
      "(1000, 20)\n"
     ]
    }
   ],
   "source": [
    "save_state_trail_CSV('AZ')"
   ]
  },
  {
   "cell_type": "markdown",
   "metadata": {},
   "source": [
    "## Number of reviews for trails"
   ]
  },
  {
   "cell_type": "code",
   "execution_count": null,
   "metadata": {},
   "outputs": [],
   "source": [
    "df = df[df['duration']<1500]\n",
    "df = df[df['review_count']!=0]"
   ]
  },
  {
   "cell_type": "code",
   "execution_count": 15,
   "metadata": {},
   "outputs": [],
   "source": [
    "reviews = df[['name', 'review_count','State']]"
   ]
  },
  {
   "cell_type": "code",
   "execution_count": 16,
   "metadata": {},
   "outputs": [
    {
     "name": "stderr",
     "output_type": "stream",
     "text": [
      "<ipython-input-16-3799b4fe5161>:1: SettingWithCopyWarning: \n",
      "A value is trying to be set on a copy of a slice from a DataFrame.\n",
      "Try using .loc[row_indexer,col_indexer] = value instead\n",
      "\n",
      "See the caveats in the documentation: https://pandas.pydata.org/pandas-docs/stable/user_guide/indexing.html#returning-a-view-versus-a-copy\n",
      "  reviews['count']=1\n"
     ]
    }
   ],
   "source": [
    "reviews['count']=1"
   ]
  },
  {
   "cell_type": "code",
   "execution_count": 17,
   "metadata": {},
   "outputs": [
    {
     "data": {
      "text/html": [
       "<div>\n",
       "<style scoped>\n",
       "    .dataframe tbody tr th:only-of-type {\n",
       "        vertical-align: middle;\n",
       "    }\n",
       "\n",
       "    .dataframe tbody tr th {\n",
       "        vertical-align: top;\n",
       "    }\n",
       "\n",
       "    .dataframe thead th {\n",
       "        text-align: right;\n",
       "    }\n",
       "</style>\n",
       "<table border=\"1\" class=\"dataframe\">\n",
       "  <thead>\n",
       "    <tr style=\"text-align: right;\">\n",
       "      <th></th>\n",
       "      <th>name</th>\n",
       "      <th>review_count</th>\n",
       "      <th>State</th>\n",
       "      <th>count</th>\n",
       "    </tr>\n",
       "  </thead>\n",
       "  <tbody>\n",
       "    <tr>\n",
       "      <th>0</th>\n",
       "      <td>Walls of Jericho Trail</td>\n",
       "      <td>908</td>\n",
       "      <td>AL</td>\n",
       "      <td>1</td>\n",
       "    </tr>\n",
       "    <tr>\n",
       "      <th>1</th>\n",
       "      <td>Cave Creek Trail from Cheaha Trailhead</td>\n",
       "      <td>486</td>\n",
       "      <td>AL</td>\n",
       "      <td>1</td>\n",
       "    </tr>\n",
       "    <tr>\n",
       "      <th>2</th>\n",
       "      <td>Sougahoagdee Falls</td>\n",
       "      <td>372</td>\n",
       "      <td>AL</td>\n",
       "      <td>1</td>\n",
       "    </tr>\n",
       "    <tr>\n",
       "      <th>3</th>\n",
       "      <td>Cane Creek Canyon Nature Preserve</td>\n",
       "      <td>236</td>\n",
       "      <td>AL</td>\n",
       "      <td>1</td>\n",
       "    </tr>\n",
       "    <tr>\n",
       "      <th>4</th>\n",
       "      <td>Chinnabee Silent Trail</td>\n",
       "      <td>308</td>\n",
       "      <td>AL</td>\n",
       "      <td>1</td>\n",
       "    </tr>\n",
       "  </tbody>\n",
       "</table>\n",
       "</div>"
      ],
      "text/plain": [
       "                                     name  review_count State  count\n",
       "0                  Walls of Jericho Trail           908    AL      1\n",
       "1  Cave Creek Trail from Cheaha Trailhead           486    AL      1\n",
       "2                      Sougahoagdee Falls           372    AL      1\n",
       "3       Cane Creek Canyon Nature Preserve           236    AL      1\n",
       "4                  Chinnabee Silent Trail           308    AL      1"
      ]
     },
     "execution_count": 17,
     "metadata": {},
     "output_type": "execute_result"
    }
   ],
   "source": [
    "reviews.head()"
   ]
  },
  {
   "cell_type": "code",
   "execution_count": 18,
   "metadata": {
    "scrolled": true
   },
   "outputs": [],
   "source": [
    "state_review = reviews.groupby('State').sum().sort_values('review_count', ascending=False)"
   ]
  },
  {
   "cell_type": "code",
   "execution_count": 19,
   "metadata": {},
   "outputs": [
    {
     "data": {
      "text/plain": [
       "Index(['review_count', 'count'], dtype='object')"
      ]
     },
     "execution_count": 19,
     "metadata": {},
     "output_type": "execute_result"
    }
   ],
   "source": [
    "state_review.columns"
   ]
  },
  {
   "cell_type": "code",
   "execution_count": 20,
   "metadata": {},
   "outputs": [],
   "source": [
    "state_review['avg review per trail'] = state_review['review_count']/state_review['count']"
   ]
  },
  {
   "cell_type": "code",
   "execution_count": 21,
   "metadata": {
    "scrolled": true
   },
   "outputs": [],
   "source": [
    "state_review = state_review.sort_values('avg review per trail', ascending=False)"
   ]
  },
  {
   "cell_type": "code",
   "execution_count": 22,
   "metadata": {
    "scrolled": true
   },
   "outputs": [
    {
     "data": {
      "image/png": "[encoded data removed]",
      "text/plain": [
       "<Figure size 720x360 with 1 Axes>"
      ]
     },
     "metadata": {
      "needs_background": "light"
     },
     "output_type": "display_data"
    }
   ],
   "source": [
    "fig, ax = plt.subplots(figsize=(10,5))\n",
    "\n",
    "state_review.plot.bar(y= 'avg review per trail', ax=ax)\n",
    "ax.set_title('Avg number of reviews per trail for each state', fontsize = 20)\n",
    "ax.set_ylabel('Avg review per trail', fontsize =20)\n",
    "ax.set_xlabel('State', fontsize =20)\n",
    "plt.show()"
   ]
  },
  {
   "cell_type": "code",
   "execution_count": 23,
   "metadata": {},
   "outputs": [],
   "source": [
    "CA = df[df['State']=='CA']"
   ]
  },
  {
   "cell_type": "code",
   "execution_count": 24,
   "metadata": {},
   "outputs": [
    {
     "data": {
      "text/plain": [
       "(985, 20)"
      ]
     },
     "execution_count": 24,
     "metadata": {},
     "output_type": "execute_result"
    }
   ],
   "source": [
    "CA.shape"
   ]
  },
  {
   "cell_type": "code",
   "execution_count": 160,
   "metadata": {},
   "outputs": [
    {
     "data": {
      "text/html": [
       "<div>\n",
       "<style scoped>\n",
       "    .dataframe tbody tr th:only-of-type {\n",
       "        vertical-align: middle;\n",
       "    }\n",
       "\n",
       "    .dataframe tbody tr th {\n",
       "        vertical-align: top;\n",
       "    }\n",
       "\n",
       "    .dataframe thead th {\n",
       "        text-align: right;\n",
       "    }\n",
       "</style>\n",
       "<table border=\"1\" class=\"dataframe\">\n",
       "  <thead>\n",
       "    <tr style=\"text-align: right;\">\n",
       "      <th></th>\n",
       "      <th>name</th>\n",
       "      <th>stars</th>\n",
       "      <th>review_count</th>\n",
       "      <th>location</th>\n",
       "      <th>elevation</th>\n",
       "      <th>route_type</th>\n",
       "      <th>short_description</th>\n",
       "      <th>long_description</th>\n",
       "      <th>tag_list</th>\n",
       "      <th>n_photos</th>\n",
       "      <th>n_recordings</th>\n",
       "      <th>n_completed</th>\n",
       "      <th>state</th>\n",
       "      <th>difficulty</th>\n",
       "      <th>short</th>\n",
       "      <th>long</th>\n",
       "      <th>n_tags</th>\n",
       "      <th>distance</th>\n",
       "      <th>duration</th>\n",
       "      <th>State</th>\n",
       "    </tr>\n",
       "  </thead>\n",
       "  <tbody>\n",
       "    <tr>\n",
       "      <th>995</th>\n",
       "      <td>Three Lakes (Angela, Flora and Azalea) via Don...</td>\n",
       "      <td>4.5</td>\n",
       "      <td>204</td>\n",
       "      <td>Tahoe National Forest</td>\n",
       "      <td>367.0</td>\n",
       "      <td>Out &amp; Back</td>\n",
       "      <td>Three Lakes (Angela, Flora and Azalea) via Don...</td>\n",
       "      <td>Note: off line map is recommended to get orien...</td>\n",
       "      <td>['Dogs on leash', 'Kid friendly', 'Hiking', 'N...</td>\n",
       "      <td>529</td>\n",
       "      <td>186</td>\n",
       "      <td>340</td>\n",
       "      <td>california</td>\n",
       "      <td>2</td>\n",
       "      <td>390</td>\n",
       "      <td>1</td>\n",
       "      <td>12</td>\n",
       "      <td>3.9</td>\n",
       "      <td>94.0</td>\n",
       "      <td>CA</td>\n",
       "    </tr>\n",
       "    <tr>\n",
       "      <th>996</th>\n",
       "      <td>Bull Creek Flats Trail</td>\n",
       "      <td>4.5</td>\n",
       "      <td>169</td>\n",
       "      <td>Bull Creek State Wilderness</td>\n",
       "      <td>636.0</td>\n",
       "      <td>Loop</td>\n",
       "      <td>Bull Creek Flats Trail is a 7.4 mile moderatel...</td>\n",
       "      <td>The full loop can only be hiked in the summer ...</td>\n",
       "      <td>['Hiking', 'Horseback riding', 'Nature trips',...</td>\n",
       "      <td>324</td>\n",
       "      <td>160</td>\n",
       "      <td>311</td>\n",
       "      <td>california</td>\n",
       "      <td>2</td>\n",
       "      <td>312</td>\n",
       "      <td>1</td>\n",
       "      <td>12</td>\n",
       "      <td>7.4</td>\n",
       "      <td>204.0</td>\n",
       "      <td>CA</td>\n",
       "    </tr>\n",
       "    <tr>\n",
       "      <th>997</th>\n",
       "      <td>North Etiwanda Preserve Loop</td>\n",
       "      <td>4.5</td>\n",
       "      <td>218</td>\n",
       "      <td>North Etiwanda Preserve</td>\n",
       "      <td>603.0</td>\n",
       "      <td>Loop</td>\n",
       "      <td>North Etiwanda Preserve Loop is a 3.3 mile hea...</td>\n",
       "      <td>Please note: Do not park in the lower dirt lot...</td>\n",
       "      <td>['Hiking', 'Nature trips', 'Walking', 'Running...</td>\n",
       "      <td>666</td>\n",
       "      <td>273</td>\n",
       "      <td>475</td>\n",
       "      <td>california</td>\n",
       "      <td>2</td>\n",
       "      <td>282</td>\n",
       "      <td>1</td>\n",
       "      <td>9</td>\n",
       "      <td>3.3</td>\n",
       "      <td>104.0</td>\n",
       "      <td>CA</td>\n",
       "    </tr>\n",
       "    <tr>\n",
       "      <th>998</th>\n",
       "      <td>Wildcat Peak Trail via Laurel Canyon and Sylva...</td>\n",
       "      <td>4.5</td>\n",
       "      <td>288</td>\n",
       "      <td>Tilden Regional Park</td>\n",
       "      <td>672.0</td>\n",
       "      <td>Loop</td>\n",
       "      <td>Wildcat Peak Trail via Laurel Canyon and Sylva...</td>\n",
       "      <td>NOTE: As of September 2020, the beginning of t...</td>\n",
       "      <td>['Kid friendly', 'Hiking', 'Nature trips', 'Ru...</td>\n",
       "      <td>457</td>\n",
       "      <td>276</td>\n",
       "      <td>522</td>\n",
       "      <td>california</td>\n",
       "      <td>2</td>\n",
       "      <td>290</td>\n",
       "      <td>1</td>\n",
       "      <td>11</td>\n",
       "      <td>3.2</td>\n",
       "      <td>105.0</td>\n",
       "      <td>CA</td>\n",
       "    </tr>\n",
       "    <tr>\n",
       "      <th>999</th>\n",
       "      <td>Carriage Trail</td>\n",
       "      <td>4.5</td>\n",
       "      <td>292</td>\n",
       "      <td>Redlands, California</td>\n",
       "      <td>295.0</td>\n",
       "      <td>Loop</td>\n",
       "      <td>Carriage Trail is a 4.9 mile heavily trafficke...</td>\n",
       "      <td>One of the trails in Redlands.  Open all year ...</td>\n",
       "      <td>['Dogs on leash', 'Kid friendly', 'Hiking', 'M...</td>\n",
       "      <td>278</td>\n",
       "      <td>293</td>\n",
       "      <td>342</td>\n",
       "      <td>california</td>\n",
       "      <td>1</td>\n",
       "      <td>303</td>\n",
       "      <td>1</td>\n",
       "      <td>11</td>\n",
       "      <td>4.9</td>\n",
       "      <td>130.0</td>\n",
       "      <td>CA</td>\n",
       "    </tr>\n",
       "  </tbody>\n",
       "</table>\n",
       "</div>"
      ],
      "text/plain": [
       "                                                  name  stars  review_count  \\\n",
       "995  Three Lakes (Angela, Flora and Azalea) via Don...    4.5           204   \n",
       "996                             Bull Creek Flats Trail    4.5           169   \n",
       "997                       North Etiwanda Preserve Loop    4.5           218   \n",
       "998  Wildcat Peak Trail via Laurel Canyon and Sylva...    4.5           288   \n",
       "999                                     Carriage Trail    4.5           292   \n",
       "\n",
       "                        location  elevation  route_type  \\\n",
       "995        Tahoe National Forest      367.0  Out & Back   \n",
       "996  Bull Creek State Wilderness      636.0        Loop   \n",
       "997      North Etiwanda Preserve      603.0        Loop   \n",
       "998         Tilden Regional Park      672.0        Loop   \n",
       "999         Redlands, California      295.0        Loop   \n",
       "\n",
       "                                     short_description  \\\n",
       "995  Three Lakes (Angela, Flora and Azalea) via Don...   \n",
       "996  Bull Creek Flats Trail is a 7.4 mile moderatel...   \n",
       "997  North Etiwanda Preserve Loop is a 3.3 mile hea...   \n",
       "998  Wildcat Peak Trail via Laurel Canyon and Sylva...   \n",
       "999  Carriage Trail is a 4.9 mile heavily trafficke...   \n",
       "\n",
       "                                      long_description  \\\n",
       "995  Note: off line map is recommended to get orien...   \n",
       "996  The full loop can only be hiked in the summer ...   \n",
       "997  Please note: Do not park in the lower dirt lot...   \n",
       "998  NOTE: As of September 2020, the beginning of t...   \n",
       "999  One of the trails in Redlands.  Open all year ...   \n",
       "\n",
       "                                              tag_list  n_photos  \\\n",
       "995  ['Dogs on leash', 'Kid friendly', 'Hiking', 'N...       529   \n",
       "996  ['Hiking', 'Horseback riding', 'Nature trips',...       324   \n",
       "997  ['Hiking', 'Nature trips', 'Walking', 'Running...       666   \n",
       "998  ['Kid friendly', 'Hiking', 'Nature trips', 'Ru...       457   \n",
       "999  ['Dogs on leash', 'Kid friendly', 'Hiking', 'M...       278   \n",
       "\n",
       "     n_recordings  n_completed       state  difficulty  short  long  n_tags  \\\n",
       "995           186          340  california           2    390     1      12   \n",
       "996           160          311  california           2    312     1      12   \n",
       "997           273          475  california           2    282     1       9   \n",
       "998           276          522  california           2    290     1      11   \n",
       "999           293          342  california           1    303     1      11   \n",
       "\n",
       "     distance  duration State  \n",
       "995       3.9      94.0    CA  \n",
       "996       7.4     204.0    CA  \n",
       "997       3.3     104.0    CA  \n",
       "998       3.2     105.0    CA  \n",
       "999       4.9     130.0    CA  "
      ]
     },
     "execution_count": 160,
     "metadata": {},
     "output_type": "execute_result"
    }
   ],
   "source": [
    "CA.tail()"
   ]
  },
  {
   "cell_type": "code",
   "execution_count": 156,
   "metadata": {},
   "outputs": [
    {
     "data": {
      "text/plain": [
       "5525"
      ]
     },
     "execution_count": 156,
     "metadata": {},
     "output_type": "execute_result"
    }
   ],
   "source": [
    "CA['review_count'].max()"
   ]
  },
  {
   "cell_type": "code",
   "execution_count": 161,
   "metadata": {},
   "outputs": [
    {
     "data": {
      "text/html": [
       "<div>\n",
       "<style scoped>\n",
       "    .dataframe tbody tr th:only-of-type {\n",
       "        vertical-align: middle;\n",
       "    }\n",
       "\n",
       "    .dataframe tbody tr th {\n",
       "        vertical-align: top;\n",
       "    }\n",
       "\n",
       "    .dataframe thead th {\n",
       "        text-align: right;\n",
       "    }\n",
       "</style>\n",
       "<table border=\"1\" class=\"dataframe\">\n",
       "  <thead>\n",
       "    <tr style=\"text-align: right;\">\n",
       "      <th></th>\n",
       "      <th>name</th>\n",
       "      <th>stars</th>\n",
       "      <th>review_count</th>\n",
       "      <th>location</th>\n",
       "      <th>elevation</th>\n",
       "      <th>route_type</th>\n",
       "      <th>short_description</th>\n",
       "      <th>long_description</th>\n",
       "      <th>tag_list</th>\n",
       "      <th>n_photos</th>\n",
       "      <th>n_recordings</th>\n",
       "      <th>n_completed</th>\n",
       "      <th>state</th>\n",
       "      <th>difficulty</th>\n",
       "      <th>short</th>\n",
       "      <th>long</th>\n",
       "      <th>n_tags</th>\n",
       "      <th>distance</th>\n",
       "      <th>duration</th>\n",
       "      <th>State</th>\n",
       "    </tr>\n",
       "  </thead>\n",
       "  <tbody>\n",
       "    <tr>\n",
       "      <th>1</th>\n",
       "      <td>Potato Chip Rock via Mt. Woodson Trail</td>\n",
       "      <td>4.5</td>\n",
       "      <td>5525</td>\n",
       "      <td>Lake Poway Park</td>\n",
       "      <td>2112.0</td>\n",
       "      <td>Out &amp; Back</td>\n",
       "      <td>Potato Chip Rock via Mt. Woodson Trail is a 7....</td>\n",
       "      <td>One of the most popular trails for photo ops a...</td>\n",
       "      <td>['Dogs on leash', 'Hiking', 'Mountain biking',...</td>\n",
       "      <td>3161</td>\n",
       "      <td>4669</td>\n",
       "      <td>12558</td>\n",
       "      <td>california</td>\n",
       "      <td>2</td>\n",
       "      <td>308</td>\n",
       "      <td>1</td>\n",
       "      <td>13</td>\n",
       "      <td>7.6</td>\n",
       "      <td>242.0</td>\n",
       "      <td>CA</td>\n",
       "    </tr>\n",
       "  </tbody>\n",
       "</table>\n",
       "</div>"
      ],
      "text/plain": [
       "                                     name  stars  review_count  \\\n",
       "1  Potato Chip Rock via Mt. Woodson Trail    4.5          5525   \n",
       "\n",
       "          location  elevation  route_type  \\\n",
       "1  Lake Poway Park     2112.0  Out & Back   \n",
       "\n",
       "                                   short_description  \\\n",
       "1  Potato Chip Rock via Mt. Woodson Trail is a 7....   \n",
       "\n",
       "                                    long_description  \\\n",
       "1  One of the most popular trails for photo ops a...   \n",
       "\n",
       "                                            tag_list  n_photos  n_recordings  \\\n",
       "1  ['Dogs on leash', 'Hiking', 'Mountain biking',...      3161          4669   \n",
       "\n",
       "   n_completed       state  difficulty  short  long  n_tags  distance  \\\n",
       "1        12558  california           2    308     1      13       7.6   \n",
       "\n",
       "   duration State  \n",
       "1     242.0    CA  "
      ]
     },
     "execution_count": 161,
     "metadata": {},
     "output_type": "execute_result"
    }
   ],
   "source": [
    "CA[CA['review_count']==5525]"
   ]
  },
  {
   "cell_type": "code",
   "execution_count": 88,
   "metadata": {},
   "outputs": [
    {
     "data": {
      "text/plain": [
       "Text(0, 0.5, 'Trail count')"
      ]
     },
     "execution_count": 88,
     "metadata": {},
     "output_type": "execute_result"
    },
    {
     "data": {
      "image/png": "[encoded data removed]",
      "text/plain": [
       "<Figure size 432x288 with 1 Axes>"
      ]
     },
     "metadata": {
      "needs_background": "light"
     },
     "output_type": "display_data"
    }
   ],
   "source": [
    "ax = CA['review_count'].plot.hist(bins=120)\n",
    "ax.set_title('Distribution of number of reviews for trails in CA', fontsize = 20)\n",
    "ax.set_xlabel('Review count', fontsize =20)\n",
    "ax.set_ylabel('Trail count', fontsize =20)"
   ]
  },
  {
   "cell_type": "code",
   "execution_count": 89,
   "metadata": {},
   "outputs": [],
   "source": [
    "top5 = ['CA', 'CO', 'AZ', 'WA','UT']"
   ]
  },
  {
   "cell_type": "code",
   "execution_count": 126,
   "metadata": {},
   "outputs": [
    {
     "name": "stdout",
     "output_type": "stream",
     "text": [
      "CA\n",
      "CO\n",
      "AZ\n",
      "WA\n",
      "UT\n"
     ]
    },
    {
     "data": {
      "image/png": "[encoded data removed]",
      "text/plain": [
       "<Figure size 432x288 with 1 Axes>"
      ]
     },
     "metadata": {
      "needs_background": "light"
     },
     "output_type": "display_data"
    }
   ],
   "source": [
    "for item in top5:\n",
    "    print(item)\n",
    "    item = df[df['State']==item]\n",
    "    ax = item['review_count'].plot.hist(bins=200, alpha=0.5)\n",
    "    ax.set_xlabel('Review count', fontsize =20)\n",
    "    ax.set_ylabel('Trail count', fontsize =20)\n",
    "    ax.set_xlim(0,1500)"
   ]
  }
 ],
 "metadata": {
  "kernelspec": {
   "display_name": "Python 3",
   "language": "python",
   "name": "python3"
  },
  "language_info": {
   "codemirror_mode": {
    "name": "ipython",
    "version": 3
   },
   "file_extension": ".py",
   "mimetype": "text/x-python",
   "name": "python",
   "nbconvert_exporter": "python",
   "pygments_lexer": "ipython3",
   "version": "3.8.3"
  }
 },
 "nbformat": 4,
 "nbformat_minor": 4
}
